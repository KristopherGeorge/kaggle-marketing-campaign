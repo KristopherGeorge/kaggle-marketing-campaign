{
 "cells": [
  {
   "cell_type": "code",
   "execution_count": 2,
   "metadata": {},
   "outputs": [],
   "source": [
    "import pandas as pd\n",
    "import numpy as np\n",
    "from sklearn.model_selection import train_test_split"
   ]
  },
  {
   "cell_type": "code",
   "execution_count": 2,
   "metadata": {},
   "outputs": [],
   "source": [
    "from feature_engine import imputation as mdi"
   ]
  },
  {
   "cell_type": "code",
   "execution_count": 3,
   "metadata": {},
   "outputs": [
    {
     "output_type": "execute_result",
     "data": {
      "text/plain": [
       "     ID  Year_Birth   Education Marital_Status   Income  Kidhome  Teenhome  \\\n",
       "0  5524        1957  Graduation         Single  58138.0        0         0   \n",
       "1  2174        1954  Graduation         Single  46344.0        1         1   \n",
       "2  4141        1965  Graduation       Together  71613.0        0         0   \n",
       "3  6182        1984  Graduation       Together  26646.0        1         0   \n",
       "4  5324        1981         PhD        Married  58293.0        1         0   \n",
       "\n",
       "  Dt_Customer  Recency  MntWines  ...  NumWebVisitsMonth  AcceptedCmp3  \\\n",
       "0  2012-09-04       58       635  ...                  7             0   \n",
       "1  2014-03-08       38        11  ...                  5             0   \n",
       "2  2013-08-21       26       426  ...                  4             0   \n",
       "3  2014-02-10       26        11  ...                  6             0   \n",
       "4  2014-01-19       94       173  ...                  5             0   \n",
       "\n",
       "   AcceptedCmp4  AcceptedCmp5  AcceptedCmp1  AcceptedCmp2  Complain  \\\n",
       "0             0             0             0             0         0   \n",
       "1             0             0             0             0         0   \n",
       "2             0             0             0             0         0   \n",
       "3             0             0             0             0         0   \n",
       "4             0             0             0             0         0   \n",
       "\n",
       "   Z_CostContact  Z_Revenue  Response  \n",
       "0              3         11         1  \n",
       "1              3         11         0  \n",
       "2              3         11         0  \n",
       "3              3         11         0  \n",
       "4              3         11         0  \n",
       "\n",
       "[5 rows x 29 columns]"
      ],
      "text/html": "<div>\n<style scoped>\n    .dataframe tbody tr th:only-of-type {\n        vertical-align: middle;\n    }\n\n    .dataframe tbody tr th {\n        vertical-align: top;\n    }\n\n    .dataframe thead th {\n        text-align: right;\n    }\n</style>\n<table border=\"1\" class=\"dataframe\">\n  <thead>\n    <tr style=\"text-align: right;\">\n      <th></th>\n      <th>ID</th>\n      <th>Year_Birth</th>\n      <th>Education</th>\n      <th>Marital_Status</th>\n      <th>Income</th>\n      <th>Kidhome</th>\n      <th>Teenhome</th>\n      <th>Dt_Customer</th>\n      <th>Recency</th>\n      <th>MntWines</th>\n      <th>...</th>\n      <th>NumWebVisitsMonth</th>\n      <th>AcceptedCmp3</th>\n      <th>AcceptedCmp4</th>\n      <th>AcceptedCmp5</th>\n      <th>AcceptedCmp1</th>\n      <th>AcceptedCmp2</th>\n      <th>Complain</th>\n      <th>Z_CostContact</th>\n      <th>Z_Revenue</th>\n      <th>Response</th>\n    </tr>\n  </thead>\n  <tbody>\n    <tr>\n      <th>0</th>\n      <td>5524</td>\n      <td>1957</td>\n      <td>Graduation</td>\n      <td>Single</td>\n      <td>58138.0</td>\n      <td>0</td>\n      <td>0</td>\n      <td>2012-09-04</td>\n      <td>58</td>\n      <td>635</td>\n      <td>...</td>\n      <td>7</td>\n      <td>0</td>\n      <td>0</td>\n      <td>0</td>\n      <td>0</td>\n      <td>0</td>\n      <td>0</td>\n      <td>3</td>\n      <td>11</td>\n      <td>1</td>\n    </tr>\n    <tr>\n      <th>1</th>\n      <td>2174</td>\n      <td>1954</td>\n      <td>Graduation</td>\n      <td>Single</td>\n      <td>46344.0</td>\n      <td>1</td>\n      <td>1</td>\n      <td>2014-03-08</td>\n      <td>38</td>\n      <td>11</td>\n      <td>...</td>\n      <td>5</td>\n      <td>0</td>\n      <td>0</td>\n      <td>0</td>\n      <td>0</td>\n      <td>0</td>\n      <td>0</td>\n      <td>3</td>\n      <td>11</td>\n      <td>0</td>\n    </tr>\n    <tr>\n      <th>2</th>\n      <td>4141</td>\n      <td>1965</td>\n      <td>Graduation</td>\n      <td>Together</td>\n      <td>71613.0</td>\n      <td>0</td>\n      <td>0</td>\n      <td>2013-08-21</td>\n      <td>26</td>\n      <td>426</td>\n      <td>...</td>\n      <td>4</td>\n      <td>0</td>\n      <td>0</td>\n      <td>0</td>\n      <td>0</td>\n      <td>0</td>\n      <td>0</td>\n      <td>3</td>\n      <td>11</td>\n      <td>0</td>\n    </tr>\n    <tr>\n      <th>3</th>\n      <td>6182</td>\n      <td>1984</td>\n      <td>Graduation</td>\n      <td>Together</td>\n      <td>26646.0</td>\n      <td>1</td>\n      <td>0</td>\n      <td>2014-02-10</td>\n      <td>26</td>\n      <td>11</td>\n      <td>...</td>\n      <td>6</td>\n      <td>0</td>\n      <td>0</td>\n      <td>0</td>\n      <td>0</td>\n      <td>0</td>\n      <td>0</td>\n      <td>3</td>\n      <td>11</td>\n      <td>0</td>\n    </tr>\n    <tr>\n      <th>4</th>\n      <td>5324</td>\n      <td>1981</td>\n      <td>PhD</td>\n      <td>Married</td>\n      <td>58293.0</td>\n      <td>1</td>\n      <td>0</td>\n      <td>2014-01-19</td>\n      <td>94</td>\n      <td>173</td>\n      <td>...</td>\n      <td>5</td>\n      <td>0</td>\n      <td>0</td>\n      <td>0</td>\n      <td>0</td>\n      <td>0</td>\n      <td>0</td>\n      <td>3</td>\n      <td>11</td>\n      <td>0</td>\n    </tr>\n  </tbody>\n</table>\n<p>5 rows × 29 columns</p>\n</div>"
     },
     "metadata": {},
     "execution_count": 3
    }
   ],
   "source": [
    "import altair as alt\n",
    "import os\n",
    "os.getcwd()\n",
    "\n",
    "data = pd.read_csv('data/marketing_campaign.csv', sep=';')\n",
    "data.head()"
   ]
  },
  {
   "cell_type": "code",
   "execution_count": 4,
   "metadata": {},
   "outputs": [],
   "source": [
    "pd.set_option('display.max_columns', None)\n",
    "\n",
    "\n",
    "\n",
    "X_train, X_test, y_train, y_test = train_test_split(data.drop(\n",
    "    ['ID', 'Response'], axis=1),\n",
    "    data['Response'],\n",
    "    test_size=0.1,\n",
    "    random_state=0)"
   ]
  },
  {
   "cell_type": "code",
   "execution_count": 5,
   "metadata": {},
   "outputs": [
    {
     "output_type": "execute_result",
     "data": {
      "text/plain": [
       "Year_Birth               59\n",
       "Education                 5\n",
       "Marital_Status            8\n",
       "Income                 1800\n",
       "Kidhome                   3\n",
       "Teenhome                  3\n",
       "Dt_Customer             657\n",
       "Recency                 100\n",
       "MntWines                746\n",
       "MntFruits               155\n",
       "MntMeatProducts         540\n",
       "MntFishProducts         176\n",
       "MntSweetProducts        173\n",
       "MntGoldProds            207\n",
       "NumDealsPurchases        15\n",
       "NumWebPurchases          15\n",
       "NumCatalogPurchases      14\n",
       "NumStorePurchases        14\n",
       "NumWebVisitsMonth        15\n",
       "AcceptedCmp3              2\n",
       "AcceptedCmp4              2\n",
       "AcceptedCmp5              2\n",
       "AcceptedCmp1              2\n",
       "AcceptedCmp2              2\n",
       "Complain                  2\n",
       "Z_CostContact             1\n",
       "Z_Revenue                 1\n",
       "dtype: int64"
      ]
     },
     "metadata": {},
     "execution_count": 5
    }
   ],
   "source": [
    "# check cardinality and remove vars with single value\n",
    "X_train.nunique()"
   ]
  },
  {
   "cell_type": "code",
   "execution_count": 6,
   "metadata": {},
   "outputs": [],
   "source": [
    "X_train.drop(columns = ['Z_CostContact', 'Z_Revenue'], inplace=True)\n",
    "X_test.drop(columns = ['Z_CostContact', 'Z_Revenue'], inplace=True)"
   ]
  },
  {
   "cell_type": "code",
   "execution_count": 7,
   "metadata": {},
   "outputs": [
    {
     "output_type": "execute_result",
     "data": {
      "text/html": "\n<div id=\"altair-viz-850a3a0eae4e403eb20b746fe8bee79f\"></div>\n<script type=\"text/javascript\">\n  (function(spec, embedOpt){\n    let outputDiv = document.currentScript.previousElementSibling;\n    if (outputDiv.id !== \"altair-viz-850a3a0eae4e403eb20b746fe8bee79f\") {\n      outputDiv = document.getElementById(\"altair-viz-850a3a0eae4e403eb20b746fe8bee79f\");\n    }\n    const paths = {\n      \"vega\": \"https://cdn.jsdelivr.net/npm//vega@5?noext\",\n      \"vega-lib\": \"https://cdn.jsdelivr.net/npm//vega-lib?noext\",\n      \"vega-lite\": \"https://cdn.jsdelivr.net/npm//vega-lite@4.8.1?noext\",\n      \"vega-embed\": \"https://cdn.jsdelivr.net/npm//vega-embed@6?noext\",\n    };\n\n    function loadScript(lib) {\n      return new Promise(function(resolve, reject) {\n        var s = document.createElement('script');\n        s.src = paths[lib];\n        s.async = true;\n        s.onload = () => resolve(paths[lib]);\n        s.onerror = () => reject(`Error loading script: ${paths[lib]}`);\n        document.getElementsByTagName(\"head\")[0].appendChild(s);\n      });\n    }\n\n    function showError(err) {\n      outputDiv.innerHTML = `<div class=\"error\" style=\"color:red;\">${err}</div>`;\n      throw err;\n    }\n\n    function displayChart(vegaEmbed) {\n      vegaEmbed(outputDiv, spec, embedOpt)\n        .catch(err => showError(`Javascript Error: ${err.message}<br>This usually means there's a typo in your chart specification. See the javascript console for the full traceback.`));\n    }\n\n    if(typeof define === \"function\" && define.amd) {\n      requirejs.config({paths});\n      require([\"vega-embed\"], displayChart, err => showError(`Error loading script: ${err.message}`));\n    } else if (typeof vegaEmbed === \"function\") {\n      displayChart(vegaEmbed);\n    } else {\n      loadScript(\"vega\")\n        .then(() => loadScript(\"vega-lite\"))\n        .then(() => loadScript(\"vega-embed\"))\n        .catch(showError)\n        .then(() => displayChart(vegaEmbed));\n    }\n  })({\"config\": {\"view\": {\"continuousWidth\": 400, \"continuousHeight\": 300}}, \"data\": {\"name\": \"data-0ad8205cb3a12c3ea5649dfe8695897a\"}, \"mark\": \"bar\", \"encoding\": {\"x\": {\"type\": \"quantitative\", \"field\": \"Cnt\"}, \"y\": {\"type\": \"ordinal\", \"field\": \"Recency\"}}, \"$schema\": \"https://vega.github.io/schema/vega-lite/v4.8.1.json\", \"datasets\": {\"data-0ad8205cb3a12c3ea5649dfe8695897a\": [{\"Recency\": 59, \"Cnt\": 14}, {\"Recency\": 33, \"Cnt\": 13}, {\"Recency\": 35, \"Cnt\": 13}, {\"Recency\": 58, \"Cnt\": 13}, {\"Recency\": 66, \"Cnt\": 13}, {\"Recency\": 22, \"Cnt\": 13}, {\"Recency\": 41, \"Cnt\": 13}, {\"Recency\": 88, \"Cnt\": 12}, {\"Recency\": 7, \"Cnt\": 11}, {\"Recency\": 44, \"Cnt\": 9}]}}, {\"mode\": \"vega-lite\"});\n</script>",
      "text/plain": [
       "alt.Chart(...)"
      ]
     },
     "metadata": {},
     "execution_count": 7
    }
   ],
   "source": [
    "# cardinality of all variables\n",
    "# dep var\n",
    "# other vars\n",
    "# missing data\n",
    "# make lists of variable types\n",
    "year_vars = ['Year_Birth']\n",
    "dt_vars = ['Dt_Customer']\n",
    "# tenure with business in months\n",
    "\n",
    "X_train.isna().mean()\n",
    "# so none of the data is missing but small % for incode\n",
    "X_train[X_train['Income'].isna()==True]\n",
    "# so only need to impute income\n",
    "\n",
    "# now I want to model as survival model using recency\n",
    "recency_info = X_train['Recency'].value_counts().reset_index().rename(columns={'Recency':'Cnt', 'index':'Recency'})\n",
    "alt.Chart(recency_info.tail(10)).mark_bar().encode(\n",
    "    y='Recency:O',\n",
    "    x='Cnt:Q'\n",
    ")"
   ]
  },
  {
   "cell_type": "code",
   "execution_count": 8,
   "metadata": {},
   "outputs": [
    {
     "output_type": "stream",
     "name": "stdout",
     "text": [
      "There are 7 continuous variables\nThere are 7 discrete variables\nThere are 2 categorical variables\nThere are 6 ohe_vars variables\n"
     ]
    }
   ],
   "source": [
    "# numeric variables we wish to treat as discrete -> discrete means a numeric var with countable nnumber of events e.g. poisson/binomial etc\n",
    "discrete = [\n",
    "    var for var in X_train.columns if X_train[var].dtype != 'O'\n",
    "        and len(X_train[var].unique()) < 20 \n",
    "        and var not in year_vars + dt_vars\n",
    "        and len(X_train[var].unique())>2\n",
    "        and var != 'Recency'\n",
    "\n",
    "]\n",
    "\n",
    "categorical = [\n",
    "    var for var in X_train.columns if X_train[var].dtype == 'O' \n",
    "    and var not in year_vars + dt_vars\n",
    "    and len(X_train[var].unique())>2\n",
    "]\n",
    "\n",
    "\n",
    "numerical = [\n",
    "    var for var in X_train.columns if X_train[var].dtype != 'O'\n",
    "    if      var not in discrete \n",
    "        and var not in ['ID', 'SalePrice', 'Recency']\n",
    "        and var not in year_vars + dt_vars\n",
    "        and len(X_train[var].unique())>2\n",
    "\n",
    "    \n",
    "]\n",
    "\n",
    "\n",
    "ohe_vars = [var for var in  X_train.columns if len(X_train[var].unique()) == 2]\n",
    "\n",
    "\n",
    "\n",
    "print('There are {} continuous variables'.format(len(numerical)))\n",
    "print('There are {} discrete variables'.format(len(discrete)))\n",
    "print('There are {} categorical variables'.format(len(categorical)))\n",
    "print('There are {} ohe_vars variables'.format(len(ohe_vars)))"
   ]
  },
  {
   "cell_type": "code",
   "execution_count": 9,
   "metadata": {},
   "outputs": [
    {
     "output_type": "execute_result",
     "data": {
      "text/plain": [
       "['Income',\n",
       " 'MntWines',\n",
       " 'MntFruits',\n",
       " 'MntMeatProducts',\n",
       " 'MntFishProducts',\n",
       " 'MntSweetProducts',\n",
       " 'MntGoldProds']"
      ]
     },
     "metadata": {},
     "execution_count": 9
    }
   ],
   "source": [
    "numerical"
   ]
  },
  {
   "cell_type": "code",
   "execution_count": 10,
   "metadata": {},
   "outputs": [
    {
     "output_type": "execute_result",
     "data": {
      "text/plain": [
       "['Kidhome',\n",
       " 'Teenhome',\n",
       " 'NumDealsPurchases',\n",
       " 'NumWebPurchases',\n",
       " 'NumCatalogPurchases',\n",
       " 'NumStorePurchases',\n",
       " 'NumWebVisitsMonth']"
      ]
     },
     "metadata": {},
     "execution_count": 10
    }
   ],
   "source": [
    "discrete"
   ]
  },
  {
   "cell_type": "code",
   "execution_count": 11,
   "metadata": {},
   "outputs": [
    {
     "output_type": "execute_result",
     "data": {
      "text/plain": [
       "['Education', 'Marital_Status']"
      ]
     },
     "metadata": {},
     "execution_count": 11
    }
   ],
   "source": [
    "categorical"
   ]
  },
  {
   "cell_type": "code",
   "execution_count": 12,
   "metadata": {},
   "outputs": [
    {
     "output_type": "execute_result",
     "data": {
      "text/plain": [
       "['AcceptedCmp3',\n",
       " 'AcceptedCmp4',\n",
       " 'AcceptedCmp5',\n",
       " 'AcceptedCmp1',\n",
       " 'AcceptedCmp2',\n",
       " 'Complain']"
      ]
     },
     "metadata": {},
     "execution_count": 12
    }
   ],
   "source": [
    "ohe_vars"
   ]
  },
  {
   "cell_type": "code",
   "execution_count": 13,
   "metadata": {},
   "outputs": [
    {
     "output_type": "execute_result",
     "data": {
      "text/plain": [
       "0    1999\n",
       "1      17\n",
       "Name: Complain, dtype: int64"
      ]
     },
     "metadata": {},
     "execution_count": 13
    }
   ],
   "source": [
    "X_train['Complain'].value_counts()"
   ]
  },
  {
   "cell_type": "code",
   "execution_count": null,
   "metadata": {},
   "outputs": [],
   "source": [
    "# visualise distributions of continous variables -> check for outliers and decide if you want to discretise into groups "
   ]
  },
  {
   "cell_type": "code",
   "execution_count": null,
   "metadata": {},
   "outputs": [],
   "source": []
  },
  {
   "cell_type": "code",
   "execution_count": null,
   "metadata": {},
   "outputs": [],
   "source": []
  },
  {
   "cell_type": "code",
   "execution_count": 14,
   "metadata": {},
   "outputs": [],
   "source": [
    "min_dt_train = pd.to_datetime(X_train['Dt_Customer']).min()\n",
    "max_dt_train = pd.to_datetime(X_train['Dt_Customer']).max()\n",
    "\n",
    "\n",
    "def add_age__add_tenure(df):\n",
    "    # capture difference between year variable and\n",
    "    # year the house was sold\n",
    "    # want to then put age into brackets as we can see outliers\n",
    "    df['Dt_Customer'] = pd.to_datetime(df['Dt_Customer'])\n",
    "    df['cust_age'] = max_dt_train.year - df['Year_Birth']\n",
    "    df['cust_tenure'] = (df['Dt_Customer'].dt.year - min_dt_train.year) * 12\n",
    "    df['cust_tenure'] = df['cust_tenure'] + (df['Dt_Customer'].dt.month-min_dt_train.month)\n",
    "\n",
    "    return df\n",
    "\n",
    "X_train = add_age__add_tenure(X_train)\n",
    "X_test = add_age__add_tenure(X_test)\n",
    "\n",
    "# drop YrSold\n",
    "X_train.drop(year_vars + dt_vars, axis=1, inplace=True)\n",
    "X_test.drop(year_vars + dt_vars, axis=1, inplace=True)\n",
    "\n",
    "\n",
    "# discretise vars\n",
    "discretise_vars = ['cust_age', 'cust_tenure']"
   ]
  },
  {
   "cell_type": "code",
   "execution_count": 15,
   "metadata": {},
   "outputs": [],
   "source": [
    "X_train[discrete] = X_train[discrete].astype('O')\n",
    "X_test[discrete] = X_test[discrete].astype('O')"
   ]
  },
  {
   "cell_type": "code",
   "execution_count": 16,
   "metadata": {},
   "outputs": [],
   "source": [
    "X_train[ohe_vars] = X_train[ohe_vars].astype('O')\n",
    "X_test[ohe_vars] = X_test[ohe_vars].astype('O')"
   ]
  },
  {
   "cell_type": "code",
   "execution_count": 17,
   "metadata": {},
   "outputs": [
    {
     "output_type": "execute_result",
     "data": {
      "text/plain": [
       "Income    0.009425\n",
       "dtype: float64"
      ]
     },
     "metadata": {},
     "execution_count": 17
    }
   ],
   "source": [
    "# get missing column info\n",
    "X_train[X_train.columns[(X_train.isnull().mean()>0)==True]].isnull().mean()"
   ]
  },
  {
   "cell_type": "code",
   "execution_count": 18,
   "metadata": {},
   "outputs": [
    {
     "output_type": "execute_result",
     "data": {
      "text/plain": [
       "Education         5\n",
       "Marital_Status    8\n",
       "dtype: int64"
      ]
     },
     "metadata": {},
     "execution_count": 18
    }
   ],
   "source": [
    "X_train[categorical].nunique()"
   ]
  },
  {
   "cell_type": "code",
   "execution_count": 19,
   "metadata": {},
   "outputs": [
    {
     "output_type": "execute_result",
     "data": {
      "text/plain": [
       "Kidhome                 3\n",
       "Teenhome                3\n",
       "NumDealsPurchases      15\n",
       "NumWebPurchases        15\n",
       "NumCatalogPurchases    14\n",
       "NumStorePurchases      14\n",
       "NumWebVisitsMonth      15\n",
       "dtype: int64"
      ]
     },
     "metadata": {},
     "execution_count": 19
    }
   ],
   "source": [
    "X_train[discrete].nunique()"
   ]
  },
  {
   "cell_type": "code",
   "execution_count": 20,
   "metadata": {},
   "outputs": [],
   "source": [
    "# one hot encode things or keep things all ordinal to make my life easy for now!"
   ]
  },
  {
   "cell_type": "code",
   "execution_count": 280,
   "metadata": {},
   "outputs": [],
   "source": [
    "# sklearns pipeline\n",
    "from sklearn.pipeline import Pipeline\n",
    "\n",
    "# for feature engineering\n",
    "from sklearn.preprocessing import StandardScaler\n",
    "from feature_engine import imputation as mdi\n",
    "from feature_engine import discretisation as dsc\n",
    "from feature_engine import encoding as ce\n",
    "from feature_engine.discretisation import EqualFrequencyDiscretiser\n",
    "from feature_engine import selection as sel"
   ]
  },
  {
   "cell_type": "code",
   "execution_count": 22,
   "metadata": {},
   "outputs": [
    {
     "output_type": "execute_result",
     "data": {
      "text/plain": [
       "Education               object\n",
       "Marital_Status          object\n",
       "Income                 float64\n",
       "Kidhome                 object\n",
       "Teenhome                object\n",
       "Recency                  int64\n",
       "MntWines                 int64\n",
       "MntFruits                int64\n",
       "MntMeatProducts          int64\n",
       "MntFishProducts          int64\n",
       "MntSweetProducts         int64\n",
       "MntGoldProds             int64\n",
       "NumDealsPurchases       object\n",
       "NumWebPurchases         object\n",
       "NumCatalogPurchases     object\n",
       "NumStorePurchases       object\n",
       "NumWebVisitsMonth       object\n",
       "AcceptedCmp3            object\n",
       "AcceptedCmp4            object\n",
       "AcceptedCmp5            object\n",
       "AcceptedCmp1            object\n",
       "AcceptedCmp2            object\n",
       "Complain                object\n",
       "cust_age                 int64\n",
       "cust_tenure              int64\n",
       "dtype: object"
      ]
     },
     "metadata": {},
     "execution_count": 22
    }
   ],
   "source": [
    "X_train.dtypes"
   ]
  },
  {
   "cell_type": "code",
   "execution_count": 29,
   "metadata": {},
   "outputs": [],
   "source": [
    "data_prep_pipe = Pipeline([\n",
    "\n",
    "    # missing data imputation - section 4\n",
    "    ('missing_ind',\n",
    "     mdi.AddMissingIndicator(\n",
    "         variables=['Income'])),\n",
    "\n",
    "    ('imputer_num',\n",
    "     mdi.MeanMedianImputer(\n",
    "         imputation_method='mean',\n",
    "         variables=['Income'])),\n",
    "    \n",
    "    # ohe - no need as only two levels\n",
    "    # ('ohe',\n",
    "    # ce.OneHotEncoder(top_categories=2, \n",
    "    #                  variables=ohe_vars, \n",
    "    #                  drop_last=False)\n",
    "    #),\n",
    "    \n",
    "    # rare label encoding\n",
    "    ('rare_label_enc',\n",
    "     ce.RareLabelEncoder(tol=0.01, n_categories=2, variables=categorical + discrete)),\n",
    "    \n",
    "    \n",
    "\n",
    "    # discretise age and tenure\n",
    "    ('disc_age_tenure',\n",
    "    dsc.EqualFrequencyDiscretiser(q=10, \n",
    "                                  variables=discretise_vars,\n",
    "                                  return_object=True)),\n",
    "    # simple ordinal encoder\n",
    "    ('ordinal_enc',\n",
    "     ce.OrdinalEncoder(encoding_method='ordered',\n",
    "                       variables=categorical + discrete + discretise_vars))\n",
    "\n",
    "])\n",
    "\n",
    "\n"
   ]
  },
  {
   "cell_type": "code",
   "execution_count": 88,
   "metadata": {},
   "outputs": [
    {
     "output_type": "execute_result",
     "data": {
      "text/plain": [
       "52389.726089    19\n",
       "7500.000000     12\n",
       "35860.000000     4\n",
       "46098.000000     3\n",
       "37760.000000     3\n",
       "                ..\n",
       "72217.000000     1\n",
       "36947.000000     1\n",
       "83033.000000     1\n",
       "29999.000000     1\n",
       "55250.000000     1\n",
       "Name: Income, Length: 1801, dtype: int64"
      ]
     },
     "metadata": {},
     "execution_count": 88
    }
   ],
   "source": []
  },
  {
   "cell_type": "code",
   "execution_count": 30,
   "metadata": {},
   "outputs": [
    {
     "output_type": "execute_result",
     "data": {
      "text/plain": [
       "cust_age       int64\n",
       "cust_tenure    int64\n",
       "dtype: object"
      ]
     },
     "metadata": {},
     "execution_count": 30
    }
   ],
   "source": [
    "data_prep_pipe.fit_transform(X_train, y_train)[discretise_vars].dtypes"
   ]
  },
  {
   "cell_type": "code",
   "execution_count": 54,
   "metadata": {},
   "outputs": [],
   "source": [
    "X_train = data_prep_pipe.transform(X_train)"
   ]
  },
  {
   "cell_type": "code",
   "execution_count": 55,
   "metadata": {},
   "outputs": [
    {
     "output_type": "execute_result",
     "data": {
      "text/plain": [
       "Kidhome                 3\n",
       "Teenhome                3\n",
       "NumDealsPurchases       9\n",
       "NumWebPurchases        13\n",
       "NumCatalogPurchases    12\n",
       "NumStorePurchases      13\n",
       "NumWebVisitsMonth      10\n",
       "Education               5\n",
       "Marital_Status          6\n",
       "cust_age               10\n",
       "cust_tenure            10\n",
       "dtype: int64"
      ]
     },
     "metadata": {},
     "execution_count": 55
    }
   ],
   "source": [
    "X_train[discrete+categorical+discretise_vars].nunique()"
   ]
  },
  {
   "cell_type": "code",
   "execution_count": 56,
   "metadata": {},
   "outputs": [
    {
     "output_type": "execute_result",
     "data": {
      "text/plain": [
       "Education                 5\n",
       "Marital_Status            6\n",
       "Income                 1801\n",
       "Kidhome                   3\n",
       "Teenhome                  3\n",
       "Recency                 100\n",
       "MntWines                746\n",
       "MntFruits               155\n",
       "MntMeatProducts         540\n",
       "MntFishProducts         176\n",
       "MntSweetProducts        173\n",
       "MntGoldProds            207\n",
       "NumDealsPurchases         9\n",
       "NumWebPurchases          13\n",
       "NumCatalogPurchases      12\n",
       "NumStorePurchases        13\n",
       "NumWebVisitsMonth        10\n",
       "AcceptedCmp3              2\n",
       "AcceptedCmp4              2\n",
       "AcceptedCmp5              2\n",
       "AcceptedCmp1              2\n",
       "AcceptedCmp2              2\n",
       "Complain                  2\n",
       "cust_age                 10\n",
       "cust_tenure              10\n",
       "Income_na                 2\n",
       "dtype: int64"
      ]
     },
     "metadata": {},
     "execution_count": 56
    }
   ],
   "source": [
    "X_train.nunique()"
   ]
  },
  {
   "cell_type": "code",
   "execution_count": 34,
   "metadata": {},
   "outputs": [],
   "source": [
    "# ok now we're ready to rock and roll\n",
    "# so now I want to do the following -> what's my time var -> it was recency so hsould not be touching\n",
    "# it as it represents survival time!"
   ]
  },
  {
   "cell_type": "code",
   "execution_count": 57,
   "metadata": {},
   "outputs": [
    {
     "output_type": "execute_result",
     "data": {
      "text/plain": [
       "     Education  Marital_Status   Income  Kidhome  Teenhome  Recency  MntWines  \\\n",
       "831          2               3  48789.0        2         2       94       351   \n",
       "18           3               1  76995.0        2         0       91      1012   \n",
       "200          2               2  69142.0        2         0       50       448   \n",
       "964          2               1  50183.0        1         0       47        97   \n",
       "517          2               3  26095.0        1         2       77        11   \n",
       "\n",
       "     MntFruits  MntMeatProducts  MntFishProducts  MntSweetProducts  \\\n",
       "831         16              156                7                 5   \n",
       "18          80              498                0                16   \n",
       "200          4               34                6                 4   \n",
       "964         12               84               13                10   \n",
       "517          7                9                3                 1   \n",
       "\n",
       "     MntGoldProds  NumDealsPurchases  NumWebPurchases  NumCatalogPurchases  \\\n",
       "831           145                  3                4                    4   \n",
       "18            176                  0               12                    4   \n",
       "200            39                  2                7                    2   \n",
       "964            15                  5                6                    2   \n",
       "517            11                  3                2                    0   \n",
       "\n",
       "     NumStorePurchases  NumWebVisitsMonth AcceptedCmp3 AcceptedCmp4  \\\n",
       "831                 10                  4            0            0   \n",
       "18                   8                  1            0            0   \n",
       "200                 10                  1            0            1   \n",
       "964                 12                  1            0            0   \n",
       "517                  1                  3            0            0   \n",
       "\n",
       "    AcceptedCmp5 AcceptedCmp1 AcceptedCmp2 Complain  cust_age  cust_tenure  \\\n",
       "831            0            0            0        0         9            9   \n",
       "18             0            1            0        0         6            7   \n",
       "200            0            0            0        0         4            0   \n",
       "964            0            0            0        0         8            0   \n",
       "517            0            0            0        0         9            5   \n",
       "\n",
       "     Income_na  \n",
       "831          0  \n",
       "18           0  \n",
       "200          0  \n",
       "964          0  \n",
       "517          0  "
      ],
      "text/html": "<div>\n<style scoped>\n    .dataframe tbody tr th:only-of-type {\n        vertical-align: middle;\n    }\n\n    .dataframe tbody tr th {\n        vertical-align: top;\n    }\n\n    .dataframe thead th {\n        text-align: right;\n    }\n</style>\n<table border=\"1\" class=\"dataframe\">\n  <thead>\n    <tr style=\"text-align: right;\">\n      <th></th>\n      <th>Education</th>\n      <th>Marital_Status</th>\n      <th>Income</th>\n      <th>Kidhome</th>\n      <th>Teenhome</th>\n      <th>Recency</th>\n      <th>MntWines</th>\n      <th>MntFruits</th>\n      <th>MntMeatProducts</th>\n      <th>MntFishProducts</th>\n      <th>MntSweetProducts</th>\n      <th>MntGoldProds</th>\n      <th>NumDealsPurchases</th>\n      <th>NumWebPurchases</th>\n      <th>NumCatalogPurchases</th>\n      <th>NumStorePurchases</th>\n      <th>NumWebVisitsMonth</th>\n      <th>AcceptedCmp3</th>\n      <th>AcceptedCmp4</th>\n      <th>AcceptedCmp5</th>\n      <th>AcceptedCmp1</th>\n      <th>AcceptedCmp2</th>\n      <th>Complain</th>\n      <th>cust_age</th>\n      <th>cust_tenure</th>\n      <th>Income_na</th>\n    </tr>\n  </thead>\n  <tbody>\n    <tr>\n      <th>831</th>\n      <td>2</td>\n      <td>3</td>\n      <td>48789.0</td>\n      <td>2</td>\n      <td>2</td>\n      <td>94</td>\n      <td>351</td>\n      <td>16</td>\n      <td>156</td>\n      <td>7</td>\n      <td>5</td>\n      <td>145</td>\n      <td>3</td>\n      <td>4</td>\n      <td>4</td>\n      <td>10</td>\n      <td>4</td>\n      <td>0</td>\n      <td>0</td>\n      <td>0</td>\n      <td>0</td>\n      <td>0</td>\n      <td>0</td>\n      <td>9</td>\n      <td>9</td>\n      <td>0</td>\n    </tr>\n    <tr>\n      <th>18</th>\n      <td>3</td>\n      <td>1</td>\n      <td>76995.0</td>\n      <td>2</td>\n      <td>0</td>\n      <td>91</td>\n      <td>1012</td>\n      <td>80</td>\n      <td>498</td>\n      <td>0</td>\n      <td>16</td>\n      <td>176</td>\n      <td>0</td>\n      <td>12</td>\n      <td>4</td>\n      <td>8</td>\n      <td>1</td>\n      <td>0</td>\n      <td>0</td>\n      <td>0</td>\n      <td>1</td>\n      <td>0</td>\n      <td>0</td>\n      <td>6</td>\n      <td>7</td>\n      <td>0</td>\n    </tr>\n    <tr>\n      <th>200</th>\n      <td>2</td>\n      <td>2</td>\n      <td>69142.0</td>\n      <td>2</td>\n      <td>0</td>\n      <td>50</td>\n      <td>448</td>\n      <td>4</td>\n      <td>34</td>\n      <td>6</td>\n      <td>4</td>\n      <td>39</td>\n      <td>2</td>\n      <td>7</td>\n      <td>2</td>\n      <td>10</td>\n      <td>1</td>\n      <td>0</td>\n      <td>1</td>\n      <td>0</td>\n      <td>0</td>\n      <td>0</td>\n      <td>0</td>\n      <td>4</td>\n      <td>0</td>\n      <td>0</td>\n    </tr>\n    <tr>\n      <th>964</th>\n      <td>2</td>\n      <td>1</td>\n      <td>50183.0</td>\n      <td>1</td>\n      <td>0</td>\n      <td>47</td>\n      <td>97</td>\n      <td>12</td>\n      <td>84</td>\n      <td>13</td>\n      <td>10</td>\n      <td>15</td>\n      <td>5</td>\n      <td>6</td>\n      <td>2</td>\n      <td>12</td>\n      <td>1</td>\n      <td>0</td>\n      <td>0</td>\n      <td>0</td>\n      <td>0</td>\n      <td>0</td>\n      <td>0</td>\n      <td>8</td>\n      <td>0</td>\n      <td>0</td>\n    </tr>\n    <tr>\n      <th>517</th>\n      <td>2</td>\n      <td>3</td>\n      <td>26095.0</td>\n      <td>1</td>\n      <td>2</td>\n      <td>77</td>\n      <td>11</td>\n      <td>7</td>\n      <td>9</td>\n      <td>3</td>\n      <td>1</td>\n      <td>11</td>\n      <td>3</td>\n      <td>2</td>\n      <td>0</td>\n      <td>1</td>\n      <td>3</td>\n      <td>0</td>\n      <td>0</td>\n      <td>0</td>\n      <td>0</td>\n      <td>0</td>\n      <td>0</td>\n      <td>9</td>\n      <td>5</td>\n      <td>0</td>\n    </tr>\n  </tbody>\n</table>\n</div>"
     },
     "metadata": {},
     "execution_count": 57
    }
   ],
   "source": [
    "X_train.head()"
   ]
  },
  {
   "cell_type": "code",
   "execution_count": 64,
   "metadata": {},
   "outputs": [
    {
     "output_type": "execute_result",
     "data": {
      "text/plain": [
       "0    1999\n",
       "1      17\n",
       "Name: Complain, dtype: int64"
      ]
     },
     "metadata": {},
     "execution_count": 64
    }
   ],
   "source": [
    "X_train['Complain'].value_counts()"
   ]
  },
  {
   "cell_type": "code",
   "execution_count": 59,
   "metadata": {},
   "outputs": [],
   "source": [
    "# so we're assuming that these variables do not change over the different recency time points which is a strong assumption to make but it's an ok assumption\n",
    "# so to create an expanded form view of the data\n",
    "# we will explode a customer up -> then we set their y-lable time varying that says if time = max time for the person set to their y-label otherwise set to zero\n",
    "# and there will be some customers that are censored at the end i.e. do not have a y-label\n",
    "# then we wish to get the hazard for each customer in their last time period only -> i.e haz represents\n",
    "# prob(T=t_latest/ T>=t_latest) where t_latest represents the latest recency for the customer and says what's the prob they will have the event now that they have the recency that they do "
   ]
  },
  {
   "cell_type": "code",
   "execution_count": 60,
   "metadata": {},
   "outputs": [
    {
     "output_type": "execute_result",
     "data": {
      "text/plain": [
       "   cust to_explode\n",
       "0     0          0\n",
       "0     0          1\n",
       "0     0          2\n",
       "1     1          0\n",
       "1     1          1\n",
       "1     1          2\n",
       "2     2          0\n",
       "2     2          1\n",
       "2     2          2\n",
       "3     3          0\n",
       "3     3          1\n",
       "3     3          2"
      ],
      "text/html": "<div>\n<style scoped>\n    .dataframe tbody tr th:only-of-type {\n        vertical-align: middle;\n    }\n\n    .dataframe tbody tr th {\n        vertical-align: top;\n    }\n\n    .dataframe thead th {\n        text-align: right;\n    }\n</style>\n<table border=\"1\" class=\"dataframe\">\n  <thead>\n    <tr style=\"text-align: right;\">\n      <th></th>\n      <th>cust</th>\n      <th>to_explode</th>\n    </tr>\n  </thead>\n  <tbody>\n    <tr>\n      <th>0</th>\n      <td>0</td>\n      <td>0</td>\n    </tr>\n    <tr>\n      <th>0</th>\n      <td>0</td>\n      <td>1</td>\n    </tr>\n    <tr>\n      <th>0</th>\n      <td>0</td>\n      <td>2</td>\n    </tr>\n    <tr>\n      <th>1</th>\n      <td>1</td>\n      <td>0</td>\n    </tr>\n    <tr>\n      <th>1</th>\n      <td>1</td>\n      <td>1</td>\n    </tr>\n    <tr>\n      <th>1</th>\n      <td>1</td>\n      <td>2</td>\n    </tr>\n    <tr>\n      <th>2</th>\n      <td>2</td>\n      <td>0</td>\n    </tr>\n    <tr>\n      <th>2</th>\n      <td>2</td>\n      <td>1</td>\n    </tr>\n    <tr>\n      <th>2</th>\n      <td>2</td>\n      <td>2</td>\n    </tr>\n    <tr>\n      <th>3</th>\n      <td>3</td>\n      <td>0</td>\n    </tr>\n    <tr>\n      <th>3</th>\n      <td>3</td>\n      <td>1</td>\n    </tr>\n    <tr>\n      <th>3</th>\n      <td>3</td>\n      <td>2</td>\n    </tr>\n  </tbody>\n</table>\n</div>"
     },
     "metadata": {},
     "execution_count": 60
    }
   ],
   "source": [
    "test = pd.DataFrame({'cust':range(4)})\n",
    "test['to_explode'] = [np.arange(3) for x in range(len(test))]\n",
    "test.apply(pd.Series.explode)"
   ]
  },
  {
   "cell_type": "code",
   "execution_count": 61,
   "metadata": {},
   "outputs": [
    {
     "output_type": "execute_result",
     "data": {
      "text/plain": [
       "   cust  nbr_entries       to_explode\n",
       "0     0            5  [0, 1, 2, 3, 4]\n",
       "1     1            1              [0]\n",
       "2     2            4     [0, 1, 2, 3]\n",
       "3     3            3        [0, 1, 2]"
      ],
      "text/html": "<div>\n<style scoped>\n    .dataframe tbody tr th:only-of-type {\n        vertical-align: middle;\n    }\n\n    .dataframe tbody tr th {\n        vertical-align: top;\n    }\n\n    .dataframe thead th {\n        text-align: right;\n    }\n</style>\n<table border=\"1\" class=\"dataframe\">\n  <thead>\n    <tr style=\"text-align: right;\">\n      <th></th>\n      <th>cust</th>\n      <th>nbr_entries</th>\n      <th>to_explode</th>\n    </tr>\n  </thead>\n  <tbody>\n    <tr>\n      <th>0</th>\n      <td>0</td>\n      <td>5</td>\n      <td>[0, 1, 2, 3, 4]</td>\n    </tr>\n    <tr>\n      <th>1</th>\n      <td>1</td>\n      <td>1</td>\n      <td>[0]</td>\n    </tr>\n    <tr>\n      <th>2</th>\n      <td>2</td>\n      <td>4</td>\n      <td>[0, 1, 2, 3]</td>\n    </tr>\n    <tr>\n      <th>3</th>\n      <td>3</td>\n      <td>3</td>\n      <td>[0, 1, 2]</td>\n    </tr>\n  </tbody>\n</table>\n</div>"
     },
     "metadata": {},
     "execution_count": 61
    }
   ],
   "source": [
    "test = pd.DataFrame({'cust':range(4)})\n",
    "test['nbr_entries'] = [5, 1, 4, 3]\n",
    "test['to_explode'] = test['nbr_entries'].apply(lambda x: np.arange(x))\n",
    "test"
   ]
  },
  {
   "cell_type": "code",
   "execution_count": 63,
   "metadata": {},
   "outputs": [
    {
     "output_type": "stream",
     "name": "stdout",
     "text": [
      "0\n99\n"
     ]
    }
   ],
   "source": [
    "rec_min, rec_max = X_train['Recency'].min(), X_train['Recency'].max()\n",
    "print(rec_min)\n",
    "print(rec_max)"
   ]
  },
  {
   "cell_type": "code",
   "execution_count": 192,
   "metadata": {},
   "outputs": [
    {
     "output_type": "execute_result",
     "data": {
      "text/plain": [
       "2     9\n",
       "3     9\n",
       "1     8\n",
       "12    8\n",
       "40    7\n",
       "     ..\n",
       "67    1\n",
       "66    1\n",
       "33    1\n",
       "34    1\n",
       "99    1\n",
       "Name: Recency, Length: 91, dtype: int64"
      ]
     },
     "metadata": {},
     "execution_count": 192
    }
   ],
   "source": [
    "X_train[y_train==1]['Recency'].value_counts()"
   ]
  },
  {
   "cell_type": "code",
   "execution_count": 107,
   "metadata": {},
   "outputs": [
    {
     "output_type": "execute_result",
     "data": {
      "text/plain": [
       "      Education  Marital_Status   Income  Kidhome  Teenhome  Recency  \\\n",
       "2202          4               5  48432.0        2         0        3   \n",
       "1528          4               3  74004.0        2         2        5   \n",
       "333           3               1  35178.0        1         2       10   \n",
       "1001          4               3  95169.0        2         2        1   \n",
       "33            4               2  46610.0        2         1        8   \n",
       "...         ...             ...      ...      ...       ...      ...   \n",
       "1995          1               1  96547.0        2         2        4   \n",
       "1053          1               2  25959.0        1         0        1   \n",
       "749           1               1  63564.0        2         2        0   \n",
       "1329          4               0  71604.0        2         2        3   \n",
       "430           4               3  84865.0        2         2        1   \n",
       "\n",
       "      MntWines  MntFruits  MntMeatProducts  MntFishProducts  MntSweetProducts  \\\n",
       "2202       322          3               50                4                 3   \n",
       "1528       784         48              560               42               176   \n",
       "333         23          1               13                2                 2   \n",
       "1001      1285         21              449              106                20   \n",
       "33          96         12               96               33                22   \n",
       "...        ...        ...              ...              ...               ...   \n",
       "1995       448         21              125               52               101   \n",
       "1053         4          2               12                7                 5   \n",
       "749        769         80              252               15                34   \n",
       "1329       345         53              528               98                75   \n",
       "430       1248         16              349               43                16   \n",
       "\n",
       "      MntGoldProds  NumDealsPurchases  NumWebPurchases  NumCatalogPurchases  \\\n",
       "2202            42                  4               11                    2   \n",
       "1528            48                  3                5                    8   \n",
       "333             18                  3                2                    2   \n",
       "1001            20                  3                5                    3   \n",
       "33              43                  6                5                    2   \n",
       "...            ...                ...              ...                  ...   \n",
       "1995            62                  8               11                    8   \n",
       "1053            26                  0                2                    1   \n",
       "749             65                  3               10                   11   \n",
       "1329            97                  3                7                    3   \n",
       "430             16                  3                3                    4   \n",
       "\n",
       "      NumStorePurchases  NumWebVisitsMonth AcceptedCmp3 AcceptedCmp4  \\\n",
       "2202                 12                  6            0            0   \n",
       "1528                  4                  5            0            0   \n",
       "333                  11                  3            1            0   \n",
       "1001                  4                  8            0            0   \n",
       "33                   12                  4            0            0   \n",
       "...                 ...                ...          ...          ...   \n",
       "1995                  5                  7            1            0   \n",
       "1053                 11                  4            0            0   \n",
       "749                  10                  4            1            0   \n",
       "1329                  9                  2            1            0   \n",
       "430                   8                  2            0            1   \n",
       "\n",
       "     AcceptedCmp5 AcceptedCmp1 AcceptedCmp2 Complain  cust_age  cust_tenure  \\\n",
       "2202            0            0            0        0         5            9   \n",
       "1528            1            1            0        0         9            3   \n",
       "333             0            0            0        0         7            6   \n",
       "1001            1            1            0        0         9            4   \n",
       "33              0            0            0        0         4            9   \n",
       "...           ...          ...          ...      ...       ...          ...   \n",
       "1995            1            1            0        0         8            0   \n",
       "1053            0            0            0        0         7            6   \n",
       "749             0            0            0        0         4            3   \n",
       "1329            0            0            0        0         6            4   \n",
       "430             1            1            1        0         2            7   \n",
       "\n",
       "      Income_na  \n",
       "2202          0  \n",
       "1528          0  \n",
       "333           0  \n",
       "1001          0  \n",
       "33            0  \n",
       "...         ...  \n",
       "1995          0  \n",
       "1053          0  \n",
       "749           0  \n",
       "1329          0  \n",
       "430           0  \n",
       "\n",
       "[68 rows x 26 columns]"
      ],
      "text/html": "<div>\n<style scoped>\n    .dataframe tbody tr th:only-of-type {\n        vertical-align: middle;\n    }\n\n    .dataframe tbody tr th {\n        vertical-align: top;\n    }\n\n    .dataframe thead th {\n        text-align: right;\n    }\n</style>\n<table border=\"1\" class=\"dataframe\">\n  <thead>\n    <tr style=\"text-align: right;\">\n      <th></th>\n      <th>Education</th>\n      <th>Marital_Status</th>\n      <th>Income</th>\n      <th>Kidhome</th>\n      <th>Teenhome</th>\n      <th>Recency</th>\n      <th>MntWines</th>\n      <th>MntFruits</th>\n      <th>MntMeatProducts</th>\n      <th>MntFishProducts</th>\n      <th>MntSweetProducts</th>\n      <th>MntGoldProds</th>\n      <th>NumDealsPurchases</th>\n      <th>NumWebPurchases</th>\n      <th>NumCatalogPurchases</th>\n      <th>NumStorePurchases</th>\n      <th>NumWebVisitsMonth</th>\n      <th>AcceptedCmp3</th>\n      <th>AcceptedCmp4</th>\n      <th>AcceptedCmp5</th>\n      <th>AcceptedCmp1</th>\n      <th>AcceptedCmp2</th>\n      <th>Complain</th>\n      <th>cust_age</th>\n      <th>cust_tenure</th>\n      <th>Income_na</th>\n    </tr>\n  </thead>\n  <tbody>\n    <tr>\n      <th>2202</th>\n      <td>4</td>\n      <td>5</td>\n      <td>48432.0</td>\n      <td>2</td>\n      <td>0</td>\n      <td>3</td>\n      <td>322</td>\n      <td>3</td>\n      <td>50</td>\n      <td>4</td>\n      <td>3</td>\n      <td>42</td>\n      <td>4</td>\n      <td>11</td>\n      <td>2</td>\n      <td>12</td>\n      <td>6</td>\n      <td>0</td>\n      <td>0</td>\n      <td>0</td>\n      <td>0</td>\n      <td>0</td>\n      <td>0</td>\n      <td>5</td>\n      <td>9</td>\n      <td>0</td>\n    </tr>\n    <tr>\n      <th>1528</th>\n      <td>4</td>\n      <td>3</td>\n      <td>74004.0</td>\n      <td>2</td>\n      <td>2</td>\n      <td>5</td>\n      <td>784</td>\n      <td>48</td>\n      <td>560</td>\n      <td>42</td>\n      <td>176</td>\n      <td>48</td>\n      <td>3</td>\n      <td>5</td>\n      <td>8</td>\n      <td>4</td>\n      <td>5</td>\n      <td>0</td>\n      <td>0</td>\n      <td>1</td>\n      <td>1</td>\n      <td>0</td>\n      <td>0</td>\n      <td>9</td>\n      <td>3</td>\n      <td>0</td>\n    </tr>\n    <tr>\n      <th>333</th>\n      <td>3</td>\n      <td>1</td>\n      <td>35178.0</td>\n      <td>1</td>\n      <td>2</td>\n      <td>10</td>\n      <td>23</td>\n      <td>1</td>\n      <td>13</td>\n      <td>2</td>\n      <td>2</td>\n      <td>18</td>\n      <td>3</td>\n      <td>2</td>\n      <td>2</td>\n      <td>11</td>\n      <td>3</td>\n      <td>1</td>\n      <td>0</td>\n      <td>0</td>\n      <td>0</td>\n      <td>0</td>\n      <td>0</td>\n      <td>7</td>\n      <td>6</td>\n      <td>0</td>\n    </tr>\n    <tr>\n      <th>1001</th>\n      <td>4</td>\n      <td>3</td>\n      <td>95169.0</td>\n      <td>2</td>\n      <td>2</td>\n      <td>1</td>\n      <td>1285</td>\n      <td>21</td>\n      <td>449</td>\n      <td>106</td>\n      <td>20</td>\n      <td>20</td>\n      <td>3</td>\n      <td>5</td>\n      <td>3</td>\n      <td>4</td>\n      <td>8</td>\n      <td>0</td>\n      <td>0</td>\n      <td>1</td>\n      <td>1</td>\n      <td>0</td>\n      <td>0</td>\n      <td>9</td>\n      <td>4</td>\n      <td>0</td>\n    </tr>\n    <tr>\n      <th>33</th>\n      <td>4</td>\n      <td>2</td>\n      <td>46610.0</td>\n      <td>2</td>\n      <td>1</td>\n      <td>8</td>\n      <td>96</td>\n      <td>12</td>\n      <td>96</td>\n      <td>33</td>\n      <td>22</td>\n      <td>43</td>\n      <td>6</td>\n      <td>5</td>\n      <td>2</td>\n      <td>12</td>\n      <td>4</td>\n      <td>0</td>\n      <td>0</td>\n      <td>0</td>\n      <td>0</td>\n      <td>0</td>\n      <td>0</td>\n      <td>4</td>\n      <td>9</td>\n      <td>0</td>\n    </tr>\n    <tr>\n      <th>...</th>\n      <td>...</td>\n      <td>...</td>\n      <td>...</td>\n      <td>...</td>\n      <td>...</td>\n      <td>...</td>\n      <td>...</td>\n      <td>...</td>\n      <td>...</td>\n      <td>...</td>\n      <td>...</td>\n      <td>...</td>\n      <td>...</td>\n      <td>...</td>\n      <td>...</td>\n      <td>...</td>\n      <td>...</td>\n      <td>...</td>\n      <td>...</td>\n      <td>...</td>\n      <td>...</td>\n      <td>...</td>\n      <td>...</td>\n      <td>...</td>\n      <td>...</td>\n      <td>...</td>\n    </tr>\n    <tr>\n      <th>1995</th>\n      <td>1</td>\n      <td>1</td>\n      <td>96547.0</td>\n      <td>2</td>\n      <td>2</td>\n      <td>4</td>\n      <td>448</td>\n      <td>21</td>\n      <td>125</td>\n      <td>52</td>\n      <td>101</td>\n      <td>62</td>\n      <td>8</td>\n      <td>11</td>\n      <td>8</td>\n      <td>5</td>\n      <td>7</td>\n      <td>1</td>\n      <td>0</td>\n      <td>1</td>\n      <td>1</td>\n      <td>0</td>\n      <td>0</td>\n      <td>8</td>\n      <td>0</td>\n      <td>0</td>\n    </tr>\n    <tr>\n      <th>1053</th>\n      <td>1</td>\n      <td>2</td>\n      <td>25959.0</td>\n      <td>1</td>\n      <td>0</td>\n      <td>1</td>\n      <td>4</td>\n      <td>2</td>\n      <td>12</td>\n      <td>7</td>\n      <td>5</td>\n      <td>26</td>\n      <td>0</td>\n      <td>2</td>\n      <td>1</td>\n      <td>11</td>\n      <td>4</td>\n      <td>0</td>\n      <td>0</td>\n      <td>0</td>\n      <td>0</td>\n      <td>0</td>\n      <td>0</td>\n      <td>7</td>\n      <td>6</td>\n      <td>0</td>\n    </tr>\n    <tr>\n      <th>749</th>\n      <td>1</td>\n      <td>1</td>\n      <td>63564.0</td>\n      <td>2</td>\n      <td>2</td>\n      <td>0</td>\n      <td>769</td>\n      <td>80</td>\n      <td>252</td>\n      <td>15</td>\n      <td>34</td>\n      <td>65</td>\n      <td>3</td>\n      <td>10</td>\n      <td>11</td>\n      <td>10</td>\n      <td>4</td>\n      <td>1</td>\n      <td>0</td>\n      <td>0</td>\n      <td>0</td>\n      <td>0</td>\n      <td>0</td>\n      <td>4</td>\n      <td>3</td>\n      <td>0</td>\n    </tr>\n    <tr>\n      <th>1329</th>\n      <td>4</td>\n      <td>0</td>\n      <td>71604.0</td>\n      <td>2</td>\n      <td>2</td>\n      <td>3</td>\n      <td>345</td>\n      <td>53</td>\n      <td>528</td>\n      <td>98</td>\n      <td>75</td>\n      <td>97</td>\n      <td>3</td>\n      <td>7</td>\n      <td>3</td>\n      <td>9</td>\n      <td>2</td>\n      <td>1</td>\n      <td>0</td>\n      <td>0</td>\n      <td>0</td>\n      <td>0</td>\n      <td>0</td>\n      <td>6</td>\n      <td>4</td>\n      <td>0</td>\n    </tr>\n    <tr>\n      <th>430</th>\n      <td>4</td>\n      <td>3</td>\n      <td>84865.0</td>\n      <td>2</td>\n      <td>2</td>\n      <td>1</td>\n      <td>1248</td>\n      <td>16</td>\n      <td>349</td>\n      <td>43</td>\n      <td>16</td>\n      <td>16</td>\n      <td>3</td>\n      <td>3</td>\n      <td>4</td>\n      <td>8</td>\n      <td>2</td>\n      <td>0</td>\n      <td>1</td>\n      <td>1</td>\n      <td>1</td>\n      <td>1</td>\n      <td>0</td>\n      <td>2</td>\n      <td>7</td>\n      <td>0</td>\n    </tr>\n  </tbody>\n</table>\n<p>68 rows × 26 columns</p>\n</div>"
     },
     "metadata": {},
     "execution_count": 107
    }
   ],
   "source": [
    "X_train[y_train==1].query('Recency<=10')"
   ]
  },
  {
   "cell_type": "code",
   "execution_count": 108,
   "metadata": {},
   "outputs": [
    {
     "output_type": "execute_result",
     "data": {
      "text/plain": [
       "1"
      ]
     },
     "metadata": {},
     "execution_count": 108
    }
   ],
   "source": [
    "y_train.loc[2202]"
   ]
  },
  {
   "cell_type": "code",
   "execution_count": 94,
   "metadata": {},
   "outputs": [],
   "source": [
    "\n",
    "def surv_analysis_df(df_x, df_y):\n",
    "    df = df_x.copy()\n",
    "    df['TARGET_TEMP'] = df_y\n",
    "    df=df.reset_index(drop=True)\n",
    "    df['time'] = df['Recency'].apply(lambda x: np.arange(x+1))\n",
    "    df = df.apply(pd.Series.explode).reset_index(drop=True)\n",
    "    # now set the y to zero and set to 1 in last record case for the cust case\n",
    "    df['TARGET'] = np.where(df['time'] == df['Recency'], df['TARGET_TEMP'], 0)\n",
    "    df.drop(columns='TARGET_TEMP', inplace=True)\n",
    "\n",
    "    X, y = df.drop(columns='TARGET'), df['TARGET']\n",
    "    return X, y"
   ]
  },
  {
   "cell_type": "code",
   "execution_count": 109,
   "metadata": {},
   "outputs": [],
   "source": [
    "X_train_surv, y_train_surv = surv_analysis_df(X_train.loc[[2202]], y_train.loc[[2202]])"
   ]
  },
  {
   "cell_type": "code",
   "execution_count": 110,
   "metadata": {},
   "outputs": [
    {
     "output_type": "execute_result",
     "data": {
      "text/plain": [
       "   Education  Marital_Status   Income  Kidhome  Teenhome  Recency  MntWines  \\\n",
       "0          4               5  48432.0        2         0        3       322   \n",
       "1          4               5  48432.0        2         0        3       322   \n",
       "2          4               5  48432.0        2         0        3       322   \n",
       "3          4               5  48432.0        2         0        3       322   \n",
       "\n",
       "   MntFruits  MntMeatProducts  MntFishProducts  MntSweetProducts  \\\n",
       "0          3               50                4                 3   \n",
       "1          3               50                4                 3   \n",
       "2          3               50                4                 3   \n",
       "3          3               50                4                 3   \n",
       "\n",
       "   MntGoldProds  NumDealsPurchases  NumWebPurchases  NumCatalogPurchases  \\\n",
       "0            42                  4               11                    2   \n",
       "1            42                  4               11                    2   \n",
       "2            42                  4               11                    2   \n",
       "3            42                  4               11                    2   \n",
       "\n",
       "   NumStorePurchases  NumWebVisitsMonth AcceptedCmp3 AcceptedCmp4  \\\n",
       "0                 12                  6            0            0   \n",
       "1                 12                  6            0            0   \n",
       "2                 12                  6            0            0   \n",
       "3                 12                  6            0            0   \n",
       "\n",
       "  AcceptedCmp5 AcceptedCmp1 AcceptedCmp2 Complain  cust_age  cust_tenure  \\\n",
       "0            0            0            0        0         5            9   \n",
       "1            0            0            0        0         5            9   \n",
       "2            0            0            0        0         5            9   \n",
       "3            0            0            0        0         5            9   \n",
       "\n",
       "   Income_na time  \n",
       "0          0    0  \n",
       "1          0    1  \n",
       "2          0    2  \n",
       "3          0    3  "
      ],
      "text/html": "<div>\n<style scoped>\n    .dataframe tbody tr th:only-of-type {\n        vertical-align: middle;\n    }\n\n    .dataframe tbody tr th {\n        vertical-align: top;\n    }\n\n    .dataframe thead th {\n        text-align: right;\n    }\n</style>\n<table border=\"1\" class=\"dataframe\">\n  <thead>\n    <tr style=\"text-align: right;\">\n      <th></th>\n      <th>Education</th>\n      <th>Marital_Status</th>\n      <th>Income</th>\n      <th>Kidhome</th>\n      <th>Teenhome</th>\n      <th>Recency</th>\n      <th>MntWines</th>\n      <th>MntFruits</th>\n      <th>MntMeatProducts</th>\n      <th>MntFishProducts</th>\n      <th>MntSweetProducts</th>\n      <th>MntGoldProds</th>\n      <th>NumDealsPurchases</th>\n      <th>NumWebPurchases</th>\n      <th>NumCatalogPurchases</th>\n      <th>NumStorePurchases</th>\n      <th>NumWebVisitsMonth</th>\n      <th>AcceptedCmp3</th>\n      <th>AcceptedCmp4</th>\n      <th>AcceptedCmp5</th>\n      <th>AcceptedCmp1</th>\n      <th>AcceptedCmp2</th>\n      <th>Complain</th>\n      <th>cust_age</th>\n      <th>cust_tenure</th>\n      <th>Income_na</th>\n      <th>time</th>\n    </tr>\n  </thead>\n  <tbody>\n    <tr>\n      <th>0</th>\n      <td>4</td>\n      <td>5</td>\n      <td>48432.0</td>\n      <td>2</td>\n      <td>0</td>\n      <td>3</td>\n      <td>322</td>\n      <td>3</td>\n      <td>50</td>\n      <td>4</td>\n      <td>3</td>\n      <td>42</td>\n      <td>4</td>\n      <td>11</td>\n      <td>2</td>\n      <td>12</td>\n      <td>6</td>\n      <td>0</td>\n      <td>0</td>\n      <td>0</td>\n      <td>0</td>\n      <td>0</td>\n      <td>0</td>\n      <td>5</td>\n      <td>9</td>\n      <td>0</td>\n      <td>0</td>\n    </tr>\n    <tr>\n      <th>1</th>\n      <td>4</td>\n      <td>5</td>\n      <td>48432.0</td>\n      <td>2</td>\n      <td>0</td>\n      <td>3</td>\n      <td>322</td>\n      <td>3</td>\n      <td>50</td>\n      <td>4</td>\n      <td>3</td>\n      <td>42</td>\n      <td>4</td>\n      <td>11</td>\n      <td>2</td>\n      <td>12</td>\n      <td>6</td>\n      <td>0</td>\n      <td>0</td>\n      <td>0</td>\n      <td>0</td>\n      <td>0</td>\n      <td>0</td>\n      <td>5</td>\n      <td>9</td>\n      <td>0</td>\n      <td>1</td>\n    </tr>\n    <tr>\n      <th>2</th>\n      <td>4</td>\n      <td>5</td>\n      <td>48432.0</td>\n      <td>2</td>\n      <td>0</td>\n      <td>3</td>\n      <td>322</td>\n      <td>3</td>\n      <td>50</td>\n      <td>4</td>\n      <td>3</td>\n      <td>42</td>\n      <td>4</td>\n      <td>11</td>\n      <td>2</td>\n      <td>12</td>\n      <td>6</td>\n      <td>0</td>\n      <td>0</td>\n      <td>0</td>\n      <td>0</td>\n      <td>0</td>\n      <td>0</td>\n      <td>5</td>\n      <td>9</td>\n      <td>0</td>\n      <td>2</td>\n    </tr>\n    <tr>\n      <th>3</th>\n      <td>4</td>\n      <td>5</td>\n      <td>48432.0</td>\n      <td>2</td>\n      <td>0</td>\n      <td>3</td>\n      <td>322</td>\n      <td>3</td>\n      <td>50</td>\n      <td>4</td>\n      <td>3</td>\n      <td>42</td>\n      <td>4</td>\n      <td>11</td>\n      <td>2</td>\n      <td>12</td>\n      <td>6</td>\n      <td>0</td>\n      <td>0</td>\n      <td>0</td>\n      <td>0</td>\n      <td>0</td>\n      <td>0</td>\n      <td>5</td>\n      <td>9</td>\n      <td>0</td>\n      <td>3</td>\n    </tr>\n  </tbody>\n</table>\n</div>"
     },
     "metadata": {},
     "execution_count": 110
    }
   ],
   "source": [
    "X_train_surv"
   ]
  },
  {
   "cell_type": "code",
   "execution_count": 111,
   "metadata": {},
   "outputs": [
    {
     "output_type": "execute_result",
     "data": {
      "text/plain": [
       "0    0\n",
       "1    0\n",
       "2    0\n",
       "3    1\n",
       "Name: TARGET, dtype: int64"
      ]
     },
     "metadata": {},
     "execution_count": 111
    }
   ],
   "source": [
    "y_train_surv"
   ]
  },
  {
   "cell_type": "code",
   "execution_count": 335,
   "metadata": {},
   "outputs": [],
   "source": [
    "X_train_surv, y_train_surv = surv_analysis_df(X_train, y_train)"
   ]
  },
  {
   "cell_type": "code",
   "execution_count": 336,
   "metadata": {},
   "outputs": [
    {
     "output_type": "execute_result",
     "data": {
      "text/plain": [
       "(101219, 27)"
      ]
     },
     "metadata": {},
     "execution_count": 336
    }
   ],
   "source": [
    "X_train_surv.shape"
   ]
  },
  {
   "cell_type": "code",
   "execution_count": 114,
   "metadata": {},
   "outputs": [
    {
     "output_type": "execute_result",
     "data": {
      "text/plain": [
       "(101219, 27)"
      ]
     },
     "metadata": {},
     "execution_count": 114
    }
   ],
   "source": [
    "X_train_surv.shape"
   ]
  },
  {
   "cell_type": "code",
   "execution_count": 115,
   "metadata": {},
   "outputs": [
    {
     "output_type": "execute_result",
     "data": {
      "text/plain": [
       "(11026, 26)"
      ]
     },
     "metadata": {},
     "execution_count": 115
    }
   ],
   "source": []
  },
  {
   "cell_type": "code",
   "execution_count": 387,
   "metadata": {},
   "outputs": [
    {
     "output_type": "stream",
     "name": "stdout",
     "text": [
      "Requirement already satisfied: h2o in /Users/christopherhassan/opt/anaconda3/lib/python3.7/site-packages (3.30.0.5)\n",
      "Requirement already satisfied: future in /Users/christopherhassan/opt/anaconda3/lib/python3.7/site-packages (from h2o) (0.18.2)\n",
      "Requirement already satisfied: colorama>=0.3.8 in /Users/christopherhassan/opt/anaconda3/lib/python3.7/site-packages (from h2o) (0.4.3)\n",
      "Requirement already satisfied: tabulate in /Users/christopherhassan/opt/anaconda3/lib/python3.7/site-packages (from h2o) (0.8.7)\n",
      "Requirement already satisfied: requests in /Users/christopherhassan/opt/anaconda3/lib/python3.7/site-packages (from h2o) (2.22.0)\n",
      "Requirement already satisfied: chardet<3.1.0,>=3.0.2 in /Users/christopherhassan/opt/anaconda3/lib/python3.7/site-packages (from requests->h2o) (3.0.4)\n",
      "Requirement already satisfied: certifi>=2017.4.17 in /Users/christopherhassan/opt/anaconda3/lib/python3.7/site-packages (from requests->h2o) (2020.12.5)\n",
      "Requirement already satisfied: idna<2.9,>=2.5 in /Users/christopherhassan/opt/anaconda3/lib/python3.7/site-packages (from requests->h2o) (2.8)\n",
      "Requirement already satisfied: urllib3!=1.25.0,!=1.25.1,<1.26,>=1.21.1 in /Users/christopherhassan/opt/anaconda3/lib/python3.7/site-packages (from requests->h2o) (1.25.8)\n"
     ]
    }
   ],
   "source": [
    "!pip install h2o"
   ]
  },
  {
   "cell_type": "code",
   "execution_count": 388,
   "metadata": {},
   "outputs": [],
   "source": [
    "import h2o"
   ]
  },
  {
   "cell_type": "code",
   "execution_count": 389,
   "metadata": {},
   "outputs": [
    {
     "output_type": "stream",
     "name": "stdout",
     "text": [
      "Checking whether there is an H2O instance running at http://localhost:54321 ..... not found.\n",
      "Attempting to start a local H2O server...\n",
      "  Java Version: java version \"1.8.0_281\"; Java(TM) SE Runtime Environment (build 1.8.0_281-b09); Java HotSpot(TM) 64-Bit Server VM (build 25.281-b09, mixed mode)\n",
      "  Starting server from /Users/christopherhassan/opt/anaconda3/lib/python3.7/site-packages/h2o/backend/bin/h2o.jar\n",
      "  Ice root: /var/folders/pr/lsrf5gy96675_8sjyvrw7m440000gn/T/tmpriq50cup\n",
      "  JVM stdout: /var/folders/pr/lsrf5gy96675_8sjyvrw7m440000gn/T/tmpriq50cup/h2o_christopherhassan_started_from_python.out\n",
      "  JVM stderr: /var/folders/pr/lsrf5gy96675_8sjyvrw7m440000gn/T/tmpriq50cup/h2o_christopherhassan_started_from_python.err\n",
      "  Server is running at http://127.0.0.1:54321\n",
      "Connecting to H2O server at http://127.0.0.1:54321 ... successful.\n",
      "Warning: Your H2O cluster version is too old (9 months and 17 days)! Please download and install the latest version from http://h2o.ai/download/\n"
     ]
    },
    {
     "output_type": "display_data",
     "data": {
      "text/plain": "--------------------------  ------------------------------------------------------------------\nH2O_cluster_uptime:         02 secs\nH2O_cluster_timezone:       Europe/London\nH2O_data_parsing_timezone:  UTC\nH2O_cluster_version:        3.30.0.5\nH2O_cluster_version_age:    9 months and 17 days !!!\nH2O_cluster_name:           H2O_from_python_christopherhassan_zpyztt\nH2O_cluster_total_nodes:    1\nH2O_cluster_free_memory:    7.111 Gb\nH2O_cluster_total_cores:    12\nH2O_cluster_allowed_cores:  12\nH2O_cluster_status:         accepting new members, healthy\nH2O_connection_url:         http://127.0.0.1:54321\nH2O_connection_proxy:       {\"http\": null, \"https\": null}\nH2O_internal_security:      False\nH2O_API_Extensions:         Amazon S3, XGBoost, Algos, AutoML, Core V3, TargetEncoder, Core V4\nPython_version:             3.7.6 final\n--------------------------  ------------------------------------------------------------------",
      "text/html": "<div style=\"overflow:auto\"><table style=\"width:50%\"><tr><td>H2O_cluster_uptime:</td>\n<td>02 secs</td></tr>\n<tr><td>H2O_cluster_timezone:</td>\n<td>Europe/London</td></tr>\n<tr><td>H2O_data_parsing_timezone:</td>\n<td>UTC</td></tr>\n<tr><td>H2O_cluster_version:</td>\n<td>3.30.0.5</td></tr>\n<tr><td>H2O_cluster_version_age:</td>\n<td>9 months and 17 days !!!</td></tr>\n<tr><td>H2O_cluster_name:</td>\n<td>H2O_from_python_christopherhassan_zpyztt</td></tr>\n<tr><td>H2O_cluster_total_nodes:</td>\n<td>1</td></tr>\n<tr><td>H2O_cluster_free_memory:</td>\n<td>7.111 Gb</td></tr>\n<tr><td>H2O_cluster_total_cores:</td>\n<td>12</td></tr>\n<tr><td>H2O_cluster_allowed_cores:</td>\n<td>12</td></tr>\n<tr><td>H2O_cluster_status:</td>\n<td>accepting new members, healthy</td></tr>\n<tr><td>H2O_connection_url:</td>\n<td>http://127.0.0.1:54321</td></tr>\n<tr><td>H2O_connection_proxy:</td>\n<td>{\"http\": null, \"https\": null}</td></tr>\n<tr><td>H2O_internal_security:</td>\n<td>False</td></tr>\n<tr><td>H2O_API_Extensions:</td>\n<td>Amazon S3, XGBoost, Algos, AutoML, Core V3, TargetEncoder, Core V4</td></tr>\n<tr><td>Python_version:</td>\n<td>3.7.6 final</td></tr></table></div>"
     },
     "metadata": {}
    }
   ],
   "source": [
    "h2o.init()"
   ]
  },
  {
   "cell_type": "code",
   "execution_count": 390,
   "metadata": {},
   "outputs": [],
   "source": [
    "from h2o.estimators.glm import H2OGeneralizedLinearEstimator\n",
    "# move to \n",
    "\n",
    "X_mod, X_val, y_mod, y_val = train_test_split(X_train_surv,\n",
    "                                            y_train_surv,\n",
    "                                            test_size=0.3,\n",
    "                                            random_state=0)\n",
    "\n"
   ]
  },
  {
   "cell_type": "code",
   "execution_count": 398,
   "metadata": {},
   "outputs": [
    {
     "output_type": "stream",
     "text": [
      "\u001b[0;31mSignature:\u001b[0m\n",
      "\u001b[0mtrain_test_split\u001b[0m\u001b[0;34m(\u001b[0m\u001b[0;34m\u001b[0m\n",
      "\u001b[0;34m\u001b[0m    \u001b[0;34m*\u001b[0m\u001b[0marrays\u001b[0m\u001b[0;34m,\u001b[0m\u001b[0;34m\u001b[0m\n",
      "\u001b[0;34m\u001b[0m    \u001b[0mtest_size\u001b[0m\u001b[0;34m=\u001b[0m\u001b[0;32mNone\u001b[0m\u001b[0;34m,\u001b[0m\u001b[0;34m\u001b[0m\n",
      "\u001b[0;34m\u001b[0m    \u001b[0mtrain_size\u001b[0m\u001b[0;34m=\u001b[0m\u001b[0;32mNone\u001b[0m\u001b[0;34m,\u001b[0m\u001b[0;34m\u001b[0m\n",
      "\u001b[0;34m\u001b[0m    \u001b[0mrandom_state\u001b[0m\u001b[0;34m=\u001b[0m\u001b[0;32mNone\u001b[0m\u001b[0;34m,\u001b[0m\u001b[0;34m\u001b[0m\n",
      "\u001b[0;34m\u001b[0m    \u001b[0mshuffle\u001b[0m\u001b[0;34m=\u001b[0m\u001b[0;32mTrue\u001b[0m\u001b[0;34m,\u001b[0m\u001b[0;34m\u001b[0m\n",
      "\u001b[0;34m\u001b[0m    \u001b[0mstratify\u001b[0m\u001b[0;34m=\u001b[0m\u001b[0;32mNone\u001b[0m\u001b[0;34m,\u001b[0m\u001b[0;34m\u001b[0m\n",
      "\u001b[0;34m\u001b[0m\u001b[0;34m)\u001b[0m\u001b[0;34m\u001b[0m\u001b[0;34m\u001b[0m\u001b[0m\n",
      "\u001b[0;31mDocstring:\u001b[0m\n",
      "Split arrays or matrices into random train and test subsets\n",
      "\n",
      "Quick utility that wraps input validation and\n",
      "``next(ShuffleSplit().split(X, y))`` and application to input data\n",
      "into a single call for splitting (and optionally subsampling) data in a\n",
      "oneliner.\n",
      "\n",
      "Read more in the :ref:`User Guide <cross_validation>`.\n",
      "\n",
      "Parameters\n",
      "----------\n",
      "*arrays : sequence of indexables with same length / shape[0]\n",
      "    Allowed inputs are lists, numpy arrays, scipy-sparse\n",
      "    matrices or pandas dataframes.\n",
      "\n",
      "test_size : float or int, default=None\n",
      "    If float, should be between 0.0 and 1.0 and represent the proportion\n",
      "    of the dataset to include in the test split. If int, represents the\n",
      "    absolute number of test samples. If None, the value is set to the\n",
      "    complement of the train size. If ``train_size`` is also None, it will\n",
      "    be set to 0.25.\n",
      "\n",
      "train_size : float or int, default=None\n",
      "    If float, should be between 0.0 and 1.0 and represent the\n",
      "    proportion of the dataset to include in the train split. If\n",
      "    int, represents the absolute number of train samples. If None,\n",
      "    the value is automatically set to the complement of the test size.\n",
      "\n",
      "random_state : int, RandomState instance or None, default=None\n",
      "    Controls the shuffling applied to the data before applying the split.\n",
      "    Pass an int for reproducible output across multiple function calls.\n",
      "    See :term:`Glossary <random_state>`.\n",
      "\n",
      "\n",
      "shuffle : bool, default=True\n",
      "    Whether or not to shuffle the data before splitting. If shuffle=False\n",
      "    then stratify must be None.\n",
      "\n",
      "stratify : array-like, default=None\n",
      "    If not None, data is split in a stratified fashion, using this as\n",
      "    the class labels.\n",
      "    Read more in the :ref:`User Guide <stratification>`.\n",
      "\n",
      "Returns\n",
      "-------\n",
      "splitting : list, length=2 * len(arrays)\n",
      "    List containing train-test split of inputs.\n",
      "\n",
      "    .. versionadded:: 0.16\n",
      "        If the input is sparse, the output will be a\n",
      "        ``scipy.sparse.csr_matrix``. Else, output type is the same as the\n",
      "        input type.\n",
      "\n",
      "Examples\n",
      "--------\n",
      ">>> import numpy as np\n",
      ">>> from sklearn.model_selection import train_test_split\n",
      ">>> X, y = np.arange(10).reshape((5, 2)), range(5)\n",
      ">>> X\n",
      "array([[0, 1],\n",
      "       [2, 3],\n",
      "       [4, 5],\n",
      "       [6, 7],\n",
      "       [8, 9]])\n",
      ">>> list(y)\n",
      "[0, 1, 2, 3, 4]\n",
      "\n",
      ">>> X_train, X_test, y_train, y_test = train_test_split(\n",
      "...     X, y, test_size=0.33, random_state=42)\n",
      "...\n",
      ">>> X_train\n",
      "array([[4, 5],\n",
      "       [0, 1],\n",
      "       [6, 7]])\n",
      ">>> y_train\n",
      "[2, 0, 3]\n",
      ">>> X_test\n",
      "array([[2, 3],\n",
      "       [8, 9]])\n",
      ">>> y_test\n",
      "[1, 4]\n",
      "\n",
      ">>> train_test_split(y, shuffle=False)\n",
      "[[0, 1, 2], [3, 4]]\n",
      "\u001b[0;31mFile:\u001b[0m      ~/opt/anaconda3/lib/python3.7/site-packages/sklearn/model_selection/_split.py\n",
      "\u001b[0;31mType:\u001b[0m      function\n"
     ],
     "name": "stdout"
    }
   ],
   "source": []
  },
  {
   "cell_type": "code",
   "execution_count": 392,
   "metadata": {},
   "outputs": [
    {
     "output_type": "stream",
     "name": "stderr",
     "text": [
      "/Users/christopherhassan/opt/anaconda3/lib/python3.7/site-packages/ipykernel_launcher.py:1: SettingWithCopyWarning: \n",
      "A value is trying to be set on a copy of a slice from a DataFrame.\n",
      "Try using .loc[row_indexer,col_indexer] = value instead\n",
      "\n",
      "See the caveats in the documentation: https://pandas.pydata.org/pandas-docs/stable/user_guide/indexing.html#returning-a-view-versus-a-copy\n",
      "  \"\"\"Entry point for launching an IPython kernel.\n",
      "/Users/christopherhassan/opt/anaconda3/lib/python3.7/site-packages/ipykernel_launcher.py:2: SettingWithCopyWarning: \n",
      "A value is trying to be set on a copy of a slice from a DataFrame.\n",
      "Try using .loc[row_indexer,col_indexer] = value instead\n",
      "\n",
      "See the caveats in the documentation: https://pandas.pydata.org/pandas-docs/stable/user_guide/indexing.html#returning-a-view-versus-a-copy\n",
      "  \n"
     ]
    }
   ],
   "source": [
    "X_mod['TARGET'] = y_mod\n",
    "X_val['TARGET'] = y_val"
   ]
  },
  {
   "cell_type": "code",
   "execution_count": 396,
   "metadata": {},
   "outputs": [
    {
     "output_type": "execute_result",
     "data": {
      "text/plain": [
       "0    0.99729\n",
       "1    0.00271\n",
       "Name: TARGET, dtype: float64"
      ]
     },
     "metadata": {},
     "execution_count": 396
    }
   ],
   "source": [
    "X_mod['TARGET'].value_counts()/len(X_mod)"
   ]
  },
  {
   "cell_type": "code",
   "execution_count": 397,
   "metadata": {},
   "outputs": [
    {
     "output_type": "execute_result",
     "data": {
      "text/plain": [
       "0    0.996641\n",
       "1    0.003359\n",
       "Name: TARGET, dtype: float64"
      ]
     },
     "metadata": {},
     "execution_count": 397
    }
   ],
   "source": [
    "X_val['TARGET'].value_counts()/len(X_val)"
   ]
  },
  {
   "cell_type": "code",
   "execution_count": 409,
   "metadata": {},
   "outputs": [],
   "source": [
    "X_mod.to_csv('data/mod.csv')\n",
    "X_val.to_csv('data/val.csv')"
   ]
  },
  {
   "cell_type": "code",
   "execution_count": 410,
   "metadata": {},
   "outputs": [
    {
     "output_type": "stream",
     "name": "stdout",
     "text": [
      "Parse progress: |█████████████████████████████████████████████████████████| 100%\n",
      "Parse progress: |█████████████████████████████████████████████████████████| 100%\n"
     ]
    }
   ],
   "source": [
    "h2o_mod = h2o.import_file(path = 'data/mod.csv', destination_frame = 'h2o_mod')\n",
    "h2o_val = h2o.import_file(path = 'data/val.csv', destination_frame = 'h2o_val')"
   ]
  },
  {
   "cell_type": "code",
   "execution_count": 411,
   "metadata": {},
   "outputs": [],
   "source": [
    "# convert dummy var as factor\n",
    "h2o_mod['TARGET'] = h2o_mod['TARGET'].asfactor()\n",
    "h2o_val['TARGET'] = h2o_val['TARGET'].asfactor()"
   ]
  },
  {
   "cell_type": "code",
   "execution_count": 420,
   "metadata": {},
   "outputs": [
    {
     "output_type": "execute_result",
     "data": {
      "text/plain": [
       "['Education',\n",
       " 'Marital_Status',\n",
       " 'Income',\n",
       " 'Kidhome',\n",
       " 'Teenhome',\n",
       " 'MntWines',\n",
       " 'MntFruits',\n",
       " 'MntMeatProducts',\n",
       " 'MntFishProducts',\n",
       " 'MntSweetProducts',\n",
       " 'MntGoldProds',\n",
       " 'NumDealsPurchases',\n",
       " 'NumWebPurchases',\n",
       " 'NumCatalogPurchases',\n",
       " 'NumStorePurchases',\n",
       " 'NumWebVisitsMonth',\n",
       " 'AcceptedCmp3',\n",
       " 'AcceptedCmp4',\n",
       " 'AcceptedCmp5',\n",
       " 'AcceptedCmp1',\n",
       " 'AcceptedCmp2',\n",
       " 'Complain',\n",
       " 'cust_age',\n",
       " 'cust_tenure',\n",
       " 'Income_na',\n",
       " 'time',\n",
       " 'pred_prob',\n",
       " 'TARGET']"
      ]
     },
     "metadata": {},
     "execution_count": 420
    }
   ],
   "source": [
    "x_vars = [x for x in X_mod.columns if x.find('Recency')==-1]\n",
    "x_vars"
   ]
  },
  {
   "cell_type": "code",
   "execution_count": 421,
   "metadata": {},
   "outputs": [
    {
     "output_type": "stream",
     "name": "stdout",
     "text": [
      "glm Model Build progress: |███████████████████████████████████████████████| 100%\n"
     ]
    }
   ],
   "source": [
    "glm_model = H2OGeneralizedLinearEstimator(\n",
    "                                   family = 'Binomial',\n",
    "                                   model_id = 'glm_model',\n",
    "                                   alpha = 1, # lasso regression, set alpha = 0 for ridge\n",
    "                                   #lambda_ = 0,\n",
    "                                   lambda_search = True,\n",
    "                                   standardize = True,\n",
    "                                   intercept = True)\n",
    "\n",
    "glm_model.train(x = x_vars, \n",
    "                y = 'TARGET',\n",
    "                training_frame = h2o_mod,\n",
    "                validation_frame = h2o_val)"
   ]
  },
  {
   "cell_type": "code",
   "execution_count": 433,
   "metadata": {},
   "outputs": [
    {
     "output_type": "stream",
     "name": "stdout",
     "text": [
      "Model Details\n",
      "=============\n",
      "H2OGeneralizedLinearEstimator :  Generalized Linear Modeling\n",
      "Model Key:  glm_model\n",
      "\n",
      "\n",
      "GLM Model: summary\n"
     ]
    },
    {
     "output_type": "display_data",
     "data": {
      "text/plain": "       family   link             regularization  \\\n0    binomial  logit  Lasso (lambda = 2.79E-4 )   \n\n                                                           lambda_search  \\\n0  nlambda = 100, lambda.max = 0.00344, lambda.min = 2.79E-4, lambda....   \n\n   number_of_predictors_total number_of_active_predictors  \\\n0                          27                           2   \n\n   number_of_iterations training_frame  \n0                    44  py_1_sid_9db4  ",
      "text/html": "<div>\n<style scoped>\n    .dataframe tbody tr th:only-of-type {\n        vertical-align: middle;\n    }\n\n    .dataframe tbody tr th {\n        vertical-align: top;\n    }\n\n    .dataframe thead th {\n        text-align: right;\n    }\n</style>\n<table border=\"1\" class=\"dataframe\">\n  <thead>\n    <tr style=\"text-align: right;\">\n      <th></th>\n      <th></th>\n      <th>family</th>\n      <th>link</th>\n      <th>regularization</th>\n      <th>lambda_search</th>\n      <th>number_of_predictors_total</th>\n      <th>number_of_active_predictors</th>\n      <th>number_of_iterations</th>\n      <th>training_frame</th>\n    </tr>\n  </thead>\n  <tbody>\n    <tr>\n      <th>0</th>\n      <td></td>\n      <td>binomial</td>\n      <td>logit</td>\n      <td>Lasso (lambda = 2.79E-4 )</td>\n      <td>nlambda = 100, lambda.max = 0.00344, lambda.min = 2.79E-4, lambda....</td>\n      <td>27</td>\n      <td>2</td>\n      <td>44</td>\n      <td>py_1_sid_9db4</td>\n    </tr>\n  </tbody>\n</table>\n</div>"
     },
     "metadata": {}
    },
    {
     "output_type": "stream",
     "name": "stdout",
     "text": [
      "\n",
      "\n",
      "ModelMetricsBinomialGLM: glm\n",
      "** Reported on train data. **\n",
      "\n",
      "MSE: 0.002690250771863874\n",
      "RMSE: 0.05186762739767334\n",
      "LogLoss: 0.01680560200307223\n",
      "Null degrees of freedom: 70852\n",
      "Residual degrees of freedom: 70850\n",
      "Null deviance: 2653.2522515384558\n",
      "Residual deviance: 2381.4546374473534\n",
      "AIC: 2387.4546374473534\n",
      "AUC: 0.8208029211068812\n",
      "AUCPR: 0.01362839260065048\n",
      "Gini: 0.6416058422137625\n",
      "\n",
      "Confusion Matrix (Act/Pred) for max f1 @ threshold = 0.019314496095362243: \n"
     ]
    },
    {
     "output_type": "display_data",
     "data": {
      "text/plain": "                0      1   Error              Rate\n0      0  69941.0  720.0  0.0102   (720.0/70661.0)\n1      1    172.0   20.0  0.8958     (172.0/192.0)\n2  Total  70113.0  740.0  0.0126   (892.0/70853.0)",
      "text/html": "<div>\n<style scoped>\n    .dataframe tbody tr th:only-of-type {\n        vertical-align: middle;\n    }\n\n    .dataframe tbody tr th {\n        vertical-align: top;\n    }\n\n    .dataframe thead th {\n        text-align: right;\n    }\n</style>\n<table border=\"1\" class=\"dataframe\">\n  <thead>\n    <tr style=\"text-align: right;\">\n      <th></th>\n      <th></th>\n      <th>0</th>\n      <th>1</th>\n      <th>Error</th>\n      <th>Rate</th>\n    </tr>\n  </thead>\n  <tbody>\n    <tr>\n      <th>0</th>\n      <td>0</td>\n      <td>69941.0</td>\n      <td>720.0</td>\n      <td>0.0102</td>\n      <td>(720.0/70661.0)</td>\n    </tr>\n    <tr>\n      <th>1</th>\n      <td>1</td>\n      <td>172.0</td>\n      <td>20.0</td>\n      <td>0.8958</td>\n      <td>(172.0/192.0)</td>\n    </tr>\n    <tr>\n      <th>2</th>\n      <td>Total</td>\n      <td>70113.0</td>\n      <td>740.0</td>\n      <td>0.0126</td>\n      <td>(892.0/70853.0)</td>\n    </tr>\n  </tbody>\n</table>\n</div>"
     },
     "metadata": {}
    },
    {
     "output_type": "stream",
     "name": "stdout",
     "text": [
      "\n",
      "Maximum Metrics: Maximum metrics at their respective thresholds\n"
     ]
    },
    {
     "output_type": "display_data",
     "data": {
      "text/plain": "                         metric     threshold         value    idx\n0                        max f1  1.931450e-02      0.042918  127.0\n1                        max f2  1.042345e-02      0.079717  189.0\n2                  max f0point5  1.931450e-02      0.031726  127.0\n3                  max accuracy  8.192345e-02      0.997262    0.0\n4                 max precision  7.186949e-02      0.045455   10.0\n5                    max recall  2.033451e-04      1.000000  396.0\n6               max specificity  8.192345e-02      0.999972    0.0\n7              max absolute_mcc  6.966588e-03      0.073804  226.0\n8    max min_per_class_accuracy  2.902656e-03      0.744792  301.0\n9   max mean_per_class_accuracy  3.407326e-03      0.754911  289.0\n10                      max tns  8.192345e-02  70659.000000    0.0\n11                      max fns  8.192345e-02    192.000000    0.0\n12                      max fps  4.521924e-07  70661.000000  399.0\n13                      max tps  2.033451e-04    192.000000  396.0\n14                      max tnr  8.192345e-02      0.999972    0.0\n15                      max fnr  8.192345e-02      1.000000    0.0\n16                      max fpr  4.521924e-07      1.000000  399.0\n17                      max tpr  2.033451e-04      1.000000  396.0",
      "text/html": "<div>\n<style scoped>\n    .dataframe tbody tr th:only-of-type {\n        vertical-align: middle;\n    }\n\n    .dataframe tbody tr th {\n        vertical-align: top;\n    }\n\n    .dataframe thead th {\n        text-align: right;\n    }\n</style>\n<table border=\"1\" class=\"dataframe\">\n  <thead>\n    <tr style=\"text-align: right;\">\n      <th></th>\n      <th>metric</th>\n      <th>threshold</th>\n      <th>value</th>\n      <th>idx</th>\n    </tr>\n  </thead>\n  <tbody>\n    <tr>\n      <th>0</th>\n      <td>max f1</td>\n      <td>1.931450e-02</td>\n      <td>0.042918</td>\n      <td>127.0</td>\n    </tr>\n    <tr>\n      <th>1</th>\n      <td>max f2</td>\n      <td>1.042345e-02</td>\n      <td>0.079717</td>\n      <td>189.0</td>\n    </tr>\n    <tr>\n      <th>2</th>\n      <td>max f0point5</td>\n      <td>1.931450e-02</td>\n      <td>0.031726</td>\n      <td>127.0</td>\n    </tr>\n    <tr>\n      <th>3</th>\n      <td>max accuracy</td>\n      <td>8.192345e-02</td>\n      <td>0.997262</td>\n      <td>0.0</td>\n    </tr>\n    <tr>\n      <th>4</th>\n      <td>max precision</td>\n      <td>7.186949e-02</td>\n      <td>0.045455</td>\n      <td>10.0</td>\n    </tr>\n    <tr>\n      <th>5</th>\n      <td>max recall</td>\n      <td>2.033451e-04</td>\n      <td>1.000000</td>\n      <td>396.0</td>\n    </tr>\n    <tr>\n      <th>6</th>\n      <td>max specificity</td>\n      <td>8.192345e-02</td>\n      <td>0.999972</td>\n      <td>0.0</td>\n    </tr>\n    <tr>\n      <th>7</th>\n      <td>max absolute_mcc</td>\n      <td>6.966588e-03</td>\n      <td>0.073804</td>\n      <td>226.0</td>\n    </tr>\n    <tr>\n      <th>8</th>\n      <td>max min_per_class_accuracy</td>\n      <td>2.902656e-03</td>\n      <td>0.744792</td>\n      <td>301.0</td>\n    </tr>\n    <tr>\n      <th>9</th>\n      <td>max mean_per_class_accuracy</td>\n      <td>3.407326e-03</td>\n      <td>0.754911</td>\n      <td>289.0</td>\n    </tr>\n    <tr>\n      <th>10</th>\n      <td>max tns</td>\n      <td>8.192345e-02</td>\n      <td>70659.000000</td>\n      <td>0.0</td>\n    </tr>\n    <tr>\n      <th>11</th>\n      <td>max fns</td>\n      <td>8.192345e-02</td>\n      <td>192.000000</td>\n      <td>0.0</td>\n    </tr>\n    <tr>\n      <th>12</th>\n      <td>max fps</td>\n      <td>4.521924e-07</td>\n      <td>70661.000000</td>\n      <td>399.0</td>\n    </tr>\n    <tr>\n      <th>13</th>\n      <td>max tps</td>\n      <td>2.033451e-04</td>\n      <td>192.000000</td>\n      <td>396.0</td>\n    </tr>\n    <tr>\n      <th>14</th>\n      <td>max tnr</td>\n      <td>8.192345e-02</td>\n      <td>0.999972</td>\n      <td>0.0</td>\n    </tr>\n    <tr>\n      <th>15</th>\n      <td>max fnr</td>\n      <td>8.192345e-02</td>\n      <td>1.000000</td>\n      <td>0.0</td>\n    </tr>\n    <tr>\n      <th>16</th>\n      <td>max fpr</td>\n      <td>4.521924e-07</td>\n      <td>1.000000</td>\n      <td>399.0</td>\n    </tr>\n    <tr>\n      <th>17</th>\n      <td>max tpr</td>\n      <td>2.033451e-04</td>\n      <td>1.000000</td>\n      <td>396.0</td>\n    </tr>\n  </tbody>\n</table>\n</div>"
     },
     "metadata": {}
    },
    {
     "output_type": "stream",
     "name": "stdout",
     "text": [
      "\n",
      "Gains/Lift Table: Avg response rate:  0.27 %, avg score:  0.27 %\n"
     ]
    },
    {
     "output_type": "display_data",
     "data": {
      "text/plain": "      group  cumulative_data_fraction  lower_threshold      lift  \\\n0         1                  0.010007     1.948688e-02  7.807321   \n1         2                  0.020013     1.401092e-02  8.848297   \n2         3                  0.030006     1.167075e-02  4.691009   \n3         4                  0.040012     1.000530e-02  7.286833   \n4         5                  0.050005     8.822489e-03  4.691009   \n5         6                  0.100024     5.697024e-03  3.332064   \n6         7                  0.150001     4.339467e-03  2.084304   \n7         8                  0.200006     3.518383e-03  1.770658   \n8         9                  0.300016     2.513966e-03  0.989486   \n9        10                  0.399997     1.889828e-03  0.573022   \n10       11                  0.500007     1.467216e-03  0.572860   \n11       12                  0.600003     1.163289e-03  0.312513   \n12       13                  0.700013     9.204068e-04  0.364547   \n13       14                  0.799994     7.026116e-04  0.052093   \n14       15                  0.899990     4.831197e-04  0.156257   \n15       16                  1.000000     4.253727e-07  0.052078   \n\n    cumulative_lift  response_rate     score  cumulative_response_rate  \\\n0          7.807321       0.021157  0.033336                  0.021157   \n1          8.327809       0.023977  0.016476                  0.022567   \n2          7.116683       0.012712  0.012768                  0.019285   \n3          7.159235       0.019746  0.010731                  0.019400   \n4          6.666008       0.012712  0.009404                  0.018064   \n5          4.998801       0.009029  0.006966                  0.013546   \n6          4.027759       0.005648  0.004955                  0.010915   \n7          3.463444       0.004798  0.003900                  0.009385   \n8          2.638752       0.002681  0.002968                  0.007151   \n9          2.122411       0.001553  0.002183                  0.005751   \n10         1.812474       0.001552  0.001664                  0.004912   \n11         1.562493       0.000847  0.001310                  0.004234   \n12         1.391344       0.000988  0.001036                  0.003770   \n13         1.223967       0.000141  0.000811                  0.003317   \n14         1.105336       0.000423  0.000596                  0.002995   \n15         1.000000       0.000141  0.000347                  0.002710   \n\n    cumulative_score  capture_rate  cumulative_capture_rate        gain  \\\n0           0.033336      0.078125                 0.078125  680.732105   \n1           0.024906      0.088542                 0.166667  784.829719   \n2           0.020864      0.046875                 0.213542  369.100900   \n3           0.018330      0.072917                 0.286458  628.683298   \n4           0.016546      0.046875                 0.333333  369.100900   \n5           0.011755      0.166667                 0.500000  233.206358   \n6           0.009489      0.104167                 0.604167  108.430410   \n7           0.008092      0.088542                 0.692708   77.065840   \n8           0.006384      0.098958                 0.791667   -1.051442   \n9           0.005334      0.057292                 0.848958  -42.697820   \n10          0.004600      0.057292                 0.906250  -42.713993   \n11          0.004052      0.031250                 0.937500  -68.748677   \n12          0.003621      0.036458                 0.973958  -63.545268   \n13          0.003270      0.005208                 0.979167  -94.790711   \n14          0.002973      0.015625                 0.994792  -84.374338   \n15          0.002710      0.005208                 1.000000  -94.792181   \n\n    cumulative_gain  \n0        680.732105  \n1        732.780912  \n2        611.668284  \n3        615.923538  \n4        566.600809  \n5        399.880062  \n6        302.775883  \n7        246.344390  \n8        163.875233  \n9        112.241081  \n10        81.247442  \n11        56.249265  \n12        39.134380  \n13        22.396697  \n14        10.533621  \n15         0.000000  ",
      "text/html": "<div>\n<style scoped>\n    .dataframe tbody tr th:only-of-type {\n        vertical-align: middle;\n    }\n\n    .dataframe tbody tr th {\n        vertical-align: top;\n    }\n\n    .dataframe thead th {\n        text-align: right;\n    }\n</style>\n<table border=\"1\" class=\"dataframe\">\n  <thead>\n    <tr style=\"text-align: right;\">\n      <th></th>\n      <th></th>\n      <th>group</th>\n      <th>cumulative_data_fraction</th>\n      <th>lower_threshold</th>\n      <th>lift</th>\n      <th>cumulative_lift</th>\n      <th>response_rate</th>\n      <th>score</th>\n      <th>cumulative_response_rate</th>\n      <th>cumulative_score</th>\n      <th>capture_rate</th>\n      <th>cumulative_capture_rate</th>\n      <th>gain</th>\n      <th>cumulative_gain</th>\n    </tr>\n  </thead>\n  <tbody>\n    <tr>\n      <th>0</th>\n      <td></td>\n      <td>1</td>\n      <td>0.010007</td>\n      <td>1.948688e-02</td>\n      <td>7.807321</td>\n      <td>7.807321</td>\n      <td>0.021157</td>\n      <td>0.033336</td>\n      <td>0.021157</td>\n      <td>0.033336</td>\n      <td>0.078125</td>\n      <td>0.078125</td>\n      <td>680.732105</td>\n      <td>680.732105</td>\n    </tr>\n    <tr>\n      <th>1</th>\n      <td></td>\n      <td>2</td>\n      <td>0.020013</td>\n      <td>1.401092e-02</td>\n      <td>8.848297</td>\n      <td>8.327809</td>\n      <td>0.023977</td>\n      <td>0.016476</td>\n      <td>0.022567</td>\n      <td>0.024906</td>\n      <td>0.088542</td>\n      <td>0.166667</td>\n      <td>784.829719</td>\n      <td>732.780912</td>\n    </tr>\n    <tr>\n      <th>2</th>\n      <td></td>\n      <td>3</td>\n      <td>0.030006</td>\n      <td>1.167075e-02</td>\n      <td>4.691009</td>\n      <td>7.116683</td>\n      <td>0.012712</td>\n      <td>0.012768</td>\n      <td>0.019285</td>\n      <td>0.020864</td>\n      <td>0.046875</td>\n      <td>0.213542</td>\n      <td>369.100900</td>\n      <td>611.668284</td>\n    </tr>\n    <tr>\n      <th>3</th>\n      <td></td>\n      <td>4</td>\n      <td>0.040012</td>\n      <td>1.000530e-02</td>\n      <td>7.286833</td>\n      <td>7.159235</td>\n      <td>0.019746</td>\n      <td>0.010731</td>\n      <td>0.019400</td>\n      <td>0.018330</td>\n      <td>0.072917</td>\n      <td>0.286458</td>\n      <td>628.683298</td>\n      <td>615.923538</td>\n    </tr>\n    <tr>\n      <th>4</th>\n      <td></td>\n      <td>5</td>\n      <td>0.050005</td>\n      <td>8.822489e-03</td>\n      <td>4.691009</td>\n      <td>6.666008</td>\n      <td>0.012712</td>\n      <td>0.009404</td>\n      <td>0.018064</td>\n      <td>0.016546</td>\n      <td>0.046875</td>\n      <td>0.333333</td>\n      <td>369.100900</td>\n      <td>566.600809</td>\n    </tr>\n    <tr>\n      <th>5</th>\n      <td></td>\n      <td>6</td>\n      <td>0.100024</td>\n      <td>5.697024e-03</td>\n      <td>3.332064</td>\n      <td>4.998801</td>\n      <td>0.009029</td>\n      <td>0.006966</td>\n      <td>0.013546</td>\n      <td>0.011755</td>\n      <td>0.166667</td>\n      <td>0.500000</td>\n      <td>233.206358</td>\n      <td>399.880062</td>\n    </tr>\n    <tr>\n      <th>6</th>\n      <td></td>\n      <td>7</td>\n      <td>0.150001</td>\n      <td>4.339467e-03</td>\n      <td>2.084304</td>\n      <td>4.027759</td>\n      <td>0.005648</td>\n      <td>0.004955</td>\n      <td>0.010915</td>\n      <td>0.009489</td>\n      <td>0.104167</td>\n      <td>0.604167</td>\n      <td>108.430410</td>\n      <td>302.775883</td>\n    </tr>\n    <tr>\n      <th>7</th>\n      <td></td>\n      <td>8</td>\n      <td>0.200006</td>\n      <td>3.518383e-03</td>\n      <td>1.770658</td>\n      <td>3.463444</td>\n      <td>0.004798</td>\n      <td>0.003900</td>\n      <td>0.009385</td>\n      <td>0.008092</td>\n      <td>0.088542</td>\n      <td>0.692708</td>\n      <td>77.065840</td>\n      <td>246.344390</td>\n    </tr>\n    <tr>\n      <th>8</th>\n      <td></td>\n      <td>9</td>\n      <td>0.300016</td>\n      <td>2.513966e-03</td>\n      <td>0.989486</td>\n      <td>2.638752</td>\n      <td>0.002681</td>\n      <td>0.002968</td>\n      <td>0.007151</td>\n      <td>0.006384</td>\n      <td>0.098958</td>\n      <td>0.791667</td>\n      <td>-1.051442</td>\n      <td>163.875233</td>\n    </tr>\n    <tr>\n      <th>9</th>\n      <td></td>\n      <td>10</td>\n      <td>0.399997</td>\n      <td>1.889828e-03</td>\n      <td>0.573022</td>\n      <td>2.122411</td>\n      <td>0.001553</td>\n      <td>0.002183</td>\n      <td>0.005751</td>\n      <td>0.005334</td>\n      <td>0.057292</td>\n      <td>0.848958</td>\n      <td>-42.697820</td>\n      <td>112.241081</td>\n    </tr>\n    <tr>\n      <th>10</th>\n      <td></td>\n      <td>11</td>\n      <td>0.500007</td>\n      <td>1.467216e-03</td>\n      <td>0.572860</td>\n      <td>1.812474</td>\n      <td>0.001552</td>\n      <td>0.001664</td>\n      <td>0.004912</td>\n      <td>0.004600</td>\n      <td>0.057292</td>\n      <td>0.906250</td>\n      <td>-42.713993</td>\n      <td>81.247442</td>\n    </tr>\n    <tr>\n      <th>11</th>\n      <td></td>\n      <td>12</td>\n      <td>0.600003</td>\n      <td>1.163289e-03</td>\n      <td>0.312513</td>\n      <td>1.562493</td>\n      <td>0.000847</td>\n      <td>0.001310</td>\n      <td>0.004234</td>\n      <td>0.004052</td>\n      <td>0.031250</td>\n      <td>0.937500</td>\n      <td>-68.748677</td>\n      <td>56.249265</td>\n    </tr>\n    <tr>\n      <th>12</th>\n      <td></td>\n      <td>13</td>\n      <td>0.700013</td>\n      <td>9.204068e-04</td>\n      <td>0.364547</td>\n      <td>1.391344</td>\n      <td>0.000988</td>\n      <td>0.001036</td>\n      <td>0.003770</td>\n      <td>0.003621</td>\n      <td>0.036458</td>\n      <td>0.973958</td>\n      <td>-63.545268</td>\n      <td>39.134380</td>\n    </tr>\n    <tr>\n      <th>13</th>\n      <td></td>\n      <td>14</td>\n      <td>0.799994</td>\n      <td>7.026116e-04</td>\n      <td>0.052093</td>\n      <td>1.223967</td>\n      <td>0.000141</td>\n      <td>0.000811</td>\n      <td>0.003317</td>\n      <td>0.003270</td>\n      <td>0.005208</td>\n      <td>0.979167</td>\n      <td>-94.790711</td>\n      <td>22.396697</td>\n    </tr>\n    <tr>\n      <th>14</th>\n      <td></td>\n      <td>15</td>\n      <td>0.899990</td>\n      <td>4.831197e-04</td>\n      <td>0.156257</td>\n      <td>1.105336</td>\n      <td>0.000423</td>\n      <td>0.000596</td>\n      <td>0.002995</td>\n      <td>0.002973</td>\n      <td>0.015625</td>\n      <td>0.994792</td>\n      <td>-84.374338</td>\n      <td>10.533621</td>\n    </tr>\n    <tr>\n      <th>15</th>\n      <td></td>\n      <td>16</td>\n      <td>1.000000</td>\n      <td>4.253727e-07</td>\n      <td>0.052078</td>\n      <td>1.000000</td>\n      <td>0.000141</td>\n      <td>0.000347</td>\n      <td>0.002710</td>\n      <td>0.002710</td>\n      <td>0.005208</td>\n      <td>1.000000</td>\n      <td>-94.792181</td>\n      <td>0.000000</td>\n    </tr>\n  </tbody>\n</table>\n</div>"
     },
     "metadata": {}
    },
    {
     "output_type": "stream",
     "name": "stdout",
     "text": [
      "\n",
      "\n",
      "ModelMetricsBinomialGLM: glm\n",
      "** Reported on validation data. **\n",
      "\n",
      "MSE: 0.003330631824374735\n",
      "RMSE: 0.05771162642288584\n",
      "LogLoss: 0.020303564651430447\n",
      "Null degrees of freedom: 30365\n",
      "Residual degrees of freedom: 30363\n",
      "Null deviance: 1370.0604938848187\n",
      "Residual deviance: 1233.0760884106744\n",
      "AIC: 1239.0760884106744\n",
      "AUC: 0.8225386209202159\n",
      "AUCPR: 0.02435435297866254\n",
      "Gini: 0.6450772418404318\n",
      "\n",
      "Confusion Matrix (Act/Pred) for max f1 @ threshold = 0.013622141226659824: \n"
     ]
    },
    {
     "output_type": "display_data",
     "data": {
      "text/plain": "                0      1   Error              Rate\n0      0  29591.0  673.0  0.0222   (673.0/30264.0)\n1      1     83.0   19.0  0.8137      (83.0/102.0)\n2  Total  29674.0  692.0  0.0249   (756.0/30366.0)",
      "text/html": "<div>\n<style scoped>\n    .dataframe tbody tr th:only-of-type {\n        vertical-align: middle;\n    }\n\n    .dataframe tbody tr th {\n        vertical-align: top;\n    }\n\n    .dataframe thead th {\n        text-align: right;\n    }\n</style>\n<table border=\"1\" class=\"dataframe\">\n  <thead>\n    <tr style=\"text-align: right;\">\n      <th></th>\n      <th></th>\n      <th>0</th>\n      <th>1</th>\n      <th>Error</th>\n      <th>Rate</th>\n    </tr>\n  </thead>\n  <tbody>\n    <tr>\n      <th>0</th>\n      <td>0</td>\n      <td>29591.0</td>\n      <td>673.0</td>\n      <td>0.0222</td>\n      <td>(673.0/30264.0)</td>\n    </tr>\n    <tr>\n      <th>1</th>\n      <td>1</td>\n      <td>83.0</td>\n      <td>19.0</td>\n      <td>0.8137</td>\n      <td>(83.0/102.0)</td>\n    </tr>\n    <tr>\n      <th>2</th>\n      <td>Total</td>\n      <td>29674.0</td>\n      <td>692.0</td>\n      <td>0.0249</td>\n      <td>(756.0/30366.0)</td>\n    </tr>\n  </tbody>\n</table>\n</div>"
     },
     "metadata": {}
    },
    {
     "output_type": "stream",
     "name": "stdout",
     "text": [
      "\n",
      "Maximum Metrics: Maximum metrics at their respective thresholds\n"
     ]
    },
    {
     "output_type": "display_data",
     "data": {
      "text/plain": "                         metric     threshold         value    idx\n0                        max f1  1.362214e-02      0.047859  149.0\n1                        max f2  1.068610e-02      0.092838  176.0\n2                  max f0point5  8.251127e-02      0.047170    0.0\n3                  max accuracy  8.251127e-02      0.996674    0.0\n4                 max precision  8.251127e-02      1.000000    0.0\n5                    max recall  8.369122e-04      1.000000  368.0\n6               max specificity  8.251127e-02      1.000000    0.0\n7              max absolute_mcc  8.251127e-02      0.098850    0.0\n8    max min_per_class_accuracy  2.905138e-03      0.744746  298.0\n9   max mean_per_class_accuracy  2.531308e-03      0.757296  309.0\n10                      max tns  8.251127e-02  30264.000000    0.0\n11                      max fns  8.251127e-02    101.000000    0.0\n12                      max fps  4.717883e-07  30264.000000  399.0\n13                      max tps  8.369122e-04    102.000000  368.0\n14                      max tnr  8.251127e-02      1.000000    0.0\n15                      max fnr  8.251127e-02      0.990196    0.0\n16                      max fpr  4.717883e-07      1.000000  399.0\n17                      max tpr  8.369122e-04      1.000000  368.0",
      "text/html": "<div>\n<style scoped>\n    .dataframe tbody tr th:only-of-type {\n        vertical-align: middle;\n    }\n\n    .dataframe tbody tr th {\n        vertical-align: top;\n    }\n\n    .dataframe thead th {\n        text-align: right;\n    }\n</style>\n<table border=\"1\" class=\"dataframe\">\n  <thead>\n    <tr style=\"text-align: right;\">\n      <th></th>\n      <th>metric</th>\n      <th>threshold</th>\n      <th>value</th>\n      <th>idx</th>\n    </tr>\n  </thead>\n  <tbody>\n    <tr>\n      <th>0</th>\n      <td>max f1</td>\n      <td>1.362214e-02</td>\n      <td>0.047859</td>\n      <td>149.0</td>\n    </tr>\n    <tr>\n      <th>1</th>\n      <td>max f2</td>\n      <td>1.068610e-02</td>\n      <td>0.092838</td>\n      <td>176.0</td>\n    </tr>\n    <tr>\n      <th>2</th>\n      <td>max f0point5</td>\n      <td>8.251127e-02</td>\n      <td>0.047170</td>\n      <td>0.0</td>\n    </tr>\n    <tr>\n      <th>3</th>\n      <td>max accuracy</td>\n      <td>8.251127e-02</td>\n      <td>0.996674</td>\n      <td>0.0</td>\n    </tr>\n    <tr>\n      <th>4</th>\n      <td>max precision</td>\n      <td>8.251127e-02</td>\n      <td>1.000000</td>\n      <td>0.0</td>\n    </tr>\n    <tr>\n      <th>5</th>\n      <td>max recall</td>\n      <td>8.369122e-04</td>\n      <td>1.000000</td>\n      <td>368.0</td>\n    </tr>\n    <tr>\n      <th>6</th>\n      <td>max specificity</td>\n      <td>8.251127e-02</td>\n      <td>1.000000</td>\n      <td>0.0</td>\n    </tr>\n    <tr>\n      <th>7</th>\n      <td>max absolute_mcc</td>\n      <td>8.251127e-02</td>\n      <td>0.098850</td>\n      <td>0.0</td>\n    </tr>\n    <tr>\n      <th>8</th>\n      <td>max min_per_class_accuracy</td>\n      <td>2.905138e-03</td>\n      <td>0.744746</td>\n      <td>298.0</td>\n    </tr>\n    <tr>\n      <th>9</th>\n      <td>max mean_per_class_accuracy</td>\n      <td>2.531308e-03</td>\n      <td>0.757296</td>\n      <td>309.0</td>\n    </tr>\n    <tr>\n      <th>10</th>\n      <td>max tns</td>\n      <td>8.251127e-02</td>\n      <td>30264.000000</td>\n      <td>0.0</td>\n    </tr>\n    <tr>\n      <th>11</th>\n      <td>max fns</td>\n      <td>8.251127e-02</td>\n      <td>101.000000</td>\n      <td>0.0</td>\n    </tr>\n    <tr>\n      <th>12</th>\n      <td>max fps</td>\n      <td>4.717883e-07</td>\n      <td>30264.000000</td>\n      <td>399.0</td>\n    </tr>\n    <tr>\n      <th>13</th>\n      <td>max tps</td>\n      <td>8.369122e-04</td>\n      <td>102.000000</td>\n      <td>368.0</td>\n    </tr>\n    <tr>\n      <th>14</th>\n      <td>max tnr</td>\n      <td>8.251127e-02</td>\n      <td>1.000000</td>\n      <td>0.0</td>\n    </tr>\n    <tr>\n      <th>15</th>\n      <td>max fnr</td>\n      <td>8.251127e-02</td>\n      <td>0.990196</td>\n      <td>0.0</td>\n    </tr>\n    <tr>\n      <th>16</th>\n      <td>max fpr</td>\n      <td>4.717883e-07</td>\n      <td>1.000000</td>\n      <td>399.0</td>\n    </tr>\n    <tr>\n      <th>17</th>\n      <td>max tpr</td>\n      <td>8.369122e-04</td>\n      <td>1.000000</td>\n      <td>368.0</td>\n    </tr>\n  </tbody>\n</table>\n</div>"
     },
     "metadata": {}
    },
    {
     "output_type": "stream",
     "name": "stdout",
     "text": [
      "\n",
      "Gains/Lift Table: Avg response rate:  0.34 %, avg score:  0.27 %\n"
     ]
    },
    {
     "output_type": "display_data",
     "data": {
      "text/plain": "      group  cumulative_data_fraction  lower_threshold      lift  \\\n0         1                  0.010011     2.036652e-02  6.855070   \n1         2                  0.020022     1.439873e-02  7.834365   \n2         3                  0.030001     1.185641e-02  6.877694   \n3         4                  0.040012     1.016459e-02  5.875774   \n4         5                  0.050023     8.925294e-03  2.937887   \n5         6                  0.100013     5.716369e-03  2.353406   \n6         7                  0.150003     4.321494e-03  2.549523   \n7         8                  0.200026     3.529232e-03  2.351857   \n8         9                  0.300007     2.517966e-03  1.470879   \n9        10                  0.400020     1.876090e-03  0.784210   \n10       11                  0.500000     1.455345e-03  0.392234   \n11       12                  0.600013     1.136214e-03  0.294079   \n12       13                  0.699993     8.985258e-04  0.294176   \n13       14                  0.800007     6.881219e-04  0.098026   \n14       15                  0.899987     4.809105e-04  0.000000   \n15       16                  1.000000     4.478322e-07  0.000000   \n\n    cumulative_lift  response_rate     score  cumulative_response_rate  \\\n0          6.855070       0.023026  0.033562                  0.023026   \n1          7.344717       0.026316  0.017066                  0.024671   \n2          7.189385       0.023102  0.013028                  0.024149   \n3          6.860712       0.019737  0.010923                  0.023045   \n4          6.075630       0.009868  0.009565                  0.020408   \n5          4.215131       0.007905  0.007050                  0.014159   \n6          3.660050       0.008564  0.004935                  0.012294   \n7          3.332894       0.007900  0.003891                  0.011195   \n8          2.712359       0.004941  0.002975                  0.009111   \n9          2.230282       0.002634  0.002183                  0.007492   \n10         1.862745       0.001318  0.001652                  0.006257   \n11         1.601272       0.000988  0.001290                  0.005379   \n12         1.414579       0.000988  0.001010                  0.004752   \n13         1.249990       0.000329  0.000792                  0.004199   \n14         1.111127       0.000000  0.000588                  0.003732   \n15         1.000000       0.000000  0.000345                  0.003359   \n\n    cumulative_score  capture_rate  cumulative_capture_rate        gain  \\\n0           0.033562      0.068627                 0.068627  585.506966   \n1           0.025314      0.078431                 0.147059  683.436533   \n2           0.021228      0.068627                 0.215686  587.769365   \n3           0.018649      0.058824                 0.274510  487.577399   \n4           0.016831      0.029412                 0.303922  193.788700   \n5           0.011942      0.117647                 0.421569  135.340618   \n6           0.009607      0.127451                 0.549020  154.952337   \n7           0.008178      0.117647                 0.666667  135.185687   \n8           0.006444      0.147059                 0.813725   47.087887   \n9           0.005379      0.078431                 0.892157  -21.578958   \n10          0.004633      0.039216                 0.931373  -60.776564   \n11          0.004076      0.029412                 0.960784  -70.592109   \n12          0.003638      0.029412                 0.990196  -70.582423   \n13          0.003282      0.009804                 1.000000  -90.197370   \n14          0.002983      0.000000                 1.000000 -100.000000   \n15          0.002719      0.000000                 1.000000 -100.000000   \n\n    cumulative_gain  \n0        585.506966  \n1        634.471749  \n2        618.938465  \n3        586.071169  \n4        507.563025  \n5        321.513103  \n6        266.005036  \n7        233.289430  \n8        171.235875  \n9        123.028199  \n10        86.274510  \n11        60.127203  \n12        41.457914  \n13        24.998971  \n14        11.112737  \n15         0.000000  ",
      "text/html": "<div>\n<style scoped>\n    .dataframe tbody tr th:only-of-type {\n        vertical-align: middle;\n    }\n\n    .dataframe tbody tr th {\n        vertical-align: top;\n    }\n\n    .dataframe thead th {\n        text-align: right;\n    }\n</style>\n<table border=\"1\" class=\"dataframe\">\n  <thead>\n    <tr style=\"text-align: right;\">\n      <th></th>\n      <th></th>\n      <th>group</th>\n      <th>cumulative_data_fraction</th>\n      <th>lower_threshold</th>\n      <th>lift</th>\n      <th>cumulative_lift</th>\n      <th>response_rate</th>\n      <th>score</th>\n      <th>cumulative_response_rate</th>\n      <th>cumulative_score</th>\n      <th>capture_rate</th>\n      <th>cumulative_capture_rate</th>\n      <th>gain</th>\n      <th>cumulative_gain</th>\n    </tr>\n  </thead>\n  <tbody>\n    <tr>\n      <th>0</th>\n      <td></td>\n      <td>1</td>\n      <td>0.010011</td>\n      <td>2.036652e-02</td>\n      <td>6.855070</td>\n      <td>6.855070</td>\n      <td>0.023026</td>\n      <td>0.033562</td>\n      <td>0.023026</td>\n      <td>0.033562</td>\n      <td>0.068627</td>\n      <td>0.068627</td>\n      <td>585.506966</td>\n      <td>585.506966</td>\n    </tr>\n    <tr>\n      <th>1</th>\n      <td></td>\n      <td>2</td>\n      <td>0.020022</td>\n      <td>1.439873e-02</td>\n      <td>7.834365</td>\n      <td>7.344717</td>\n      <td>0.026316</td>\n      <td>0.017066</td>\n      <td>0.024671</td>\n      <td>0.025314</td>\n      <td>0.078431</td>\n      <td>0.147059</td>\n      <td>683.436533</td>\n      <td>634.471749</td>\n    </tr>\n    <tr>\n      <th>2</th>\n      <td></td>\n      <td>3</td>\n      <td>0.030001</td>\n      <td>1.185641e-02</td>\n      <td>6.877694</td>\n      <td>7.189385</td>\n      <td>0.023102</td>\n      <td>0.013028</td>\n      <td>0.024149</td>\n      <td>0.021228</td>\n      <td>0.068627</td>\n      <td>0.215686</td>\n      <td>587.769365</td>\n      <td>618.938465</td>\n    </tr>\n    <tr>\n      <th>3</th>\n      <td></td>\n      <td>4</td>\n      <td>0.040012</td>\n      <td>1.016459e-02</td>\n      <td>5.875774</td>\n      <td>6.860712</td>\n      <td>0.019737</td>\n      <td>0.010923</td>\n      <td>0.023045</td>\n      <td>0.018649</td>\n      <td>0.058824</td>\n      <td>0.274510</td>\n      <td>487.577399</td>\n      <td>586.071169</td>\n    </tr>\n    <tr>\n      <th>4</th>\n      <td></td>\n      <td>5</td>\n      <td>0.050023</td>\n      <td>8.925294e-03</td>\n      <td>2.937887</td>\n      <td>6.075630</td>\n      <td>0.009868</td>\n      <td>0.009565</td>\n      <td>0.020408</td>\n      <td>0.016831</td>\n      <td>0.029412</td>\n      <td>0.303922</td>\n      <td>193.788700</td>\n      <td>507.563025</td>\n    </tr>\n    <tr>\n      <th>5</th>\n      <td></td>\n      <td>6</td>\n      <td>0.100013</td>\n      <td>5.716369e-03</td>\n      <td>2.353406</td>\n      <td>4.215131</td>\n      <td>0.007905</td>\n      <td>0.007050</td>\n      <td>0.014159</td>\n      <td>0.011942</td>\n      <td>0.117647</td>\n      <td>0.421569</td>\n      <td>135.340618</td>\n      <td>321.513103</td>\n    </tr>\n    <tr>\n      <th>6</th>\n      <td></td>\n      <td>7</td>\n      <td>0.150003</td>\n      <td>4.321494e-03</td>\n      <td>2.549523</td>\n      <td>3.660050</td>\n      <td>0.008564</td>\n      <td>0.004935</td>\n      <td>0.012294</td>\n      <td>0.009607</td>\n      <td>0.127451</td>\n      <td>0.549020</td>\n      <td>154.952337</td>\n      <td>266.005036</td>\n    </tr>\n    <tr>\n      <th>7</th>\n      <td></td>\n      <td>8</td>\n      <td>0.200026</td>\n      <td>3.529232e-03</td>\n      <td>2.351857</td>\n      <td>3.332894</td>\n      <td>0.007900</td>\n      <td>0.003891</td>\n      <td>0.011195</td>\n      <td>0.008178</td>\n      <td>0.117647</td>\n      <td>0.666667</td>\n      <td>135.185687</td>\n      <td>233.289430</td>\n    </tr>\n    <tr>\n      <th>8</th>\n      <td></td>\n      <td>9</td>\n      <td>0.300007</td>\n      <td>2.517966e-03</td>\n      <td>1.470879</td>\n      <td>2.712359</td>\n      <td>0.004941</td>\n      <td>0.002975</td>\n      <td>0.009111</td>\n      <td>0.006444</td>\n      <td>0.147059</td>\n      <td>0.813725</td>\n      <td>47.087887</td>\n      <td>171.235875</td>\n    </tr>\n    <tr>\n      <th>9</th>\n      <td></td>\n      <td>10</td>\n      <td>0.400020</td>\n      <td>1.876090e-03</td>\n      <td>0.784210</td>\n      <td>2.230282</td>\n      <td>0.002634</td>\n      <td>0.002183</td>\n      <td>0.007492</td>\n      <td>0.005379</td>\n      <td>0.078431</td>\n      <td>0.892157</td>\n      <td>-21.578958</td>\n      <td>123.028199</td>\n    </tr>\n    <tr>\n      <th>10</th>\n      <td></td>\n      <td>11</td>\n      <td>0.500000</td>\n      <td>1.455345e-03</td>\n      <td>0.392234</td>\n      <td>1.862745</td>\n      <td>0.001318</td>\n      <td>0.001652</td>\n      <td>0.006257</td>\n      <td>0.004633</td>\n      <td>0.039216</td>\n      <td>0.931373</td>\n      <td>-60.776564</td>\n      <td>86.274510</td>\n    </tr>\n    <tr>\n      <th>11</th>\n      <td></td>\n      <td>12</td>\n      <td>0.600013</td>\n      <td>1.136214e-03</td>\n      <td>0.294079</td>\n      <td>1.601272</td>\n      <td>0.000988</td>\n      <td>0.001290</td>\n      <td>0.005379</td>\n      <td>0.004076</td>\n      <td>0.029412</td>\n      <td>0.960784</td>\n      <td>-70.592109</td>\n      <td>60.127203</td>\n    </tr>\n    <tr>\n      <th>12</th>\n      <td></td>\n      <td>13</td>\n      <td>0.699993</td>\n      <td>8.985258e-04</td>\n      <td>0.294176</td>\n      <td>1.414579</td>\n      <td>0.000988</td>\n      <td>0.001010</td>\n      <td>0.004752</td>\n      <td>0.003638</td>\n      <td>0.029412</td>\n      <td>0.990196</td>\n      <td>-70.582423</td>\n      <td>41.457914</td>\n    </tr>\n    <tr>\n      <th>13</th>\n      <td></td>\n      <td>14</td>\n      <td>0.800007</td>\n      <td>6.881219e-04</td>\n      <td>0.098026</td>\n      <td>1.249990</td>\n      <td>0.000329</td>\n      <td>0.000792</td>\n      <td>0.004199</td>\n      <td>0.003282</td>\n      <td>0.009804</td>\n      <td>1.000000</td>\n      <td>-90.197370</td>\n      <td>24.998971</td>\n    </tr>\n    <tr>\n      <th>14</th>\n      <td></td>\n      <td>15</td>\n      <td>0.899987</td>\n      <td>4.809105e-04</td>\n      <td>0.000000</td>\n      <td>1.111127</td>\n      <td>0.000000</td>\n      <td>0.000588</td>\n      <td>0.003732</td>\n      <td>0.002983</td>\n      <td>0.000000</td>\n      <td>1.000000</td>\n      <td>-100.000000</td>\n      <td>11.112737</td>\n    </tr>\n    <tr>\n      <th>15</th>\n      <td></td>\n      <td>16</td>\n      <td>1.000000</td>\n      <td>4.478322e-07</td>\n      <td>0.000000</td>\n      <td>1.000000</td>\n      <td>0.000000</td>\n      <td>0.000345</td>\n      <td>0.003359</td>\n      <td>0.002719</td>\n      <td>0.000000</td>\n      <td>1.000000</td>\n      <td>-100.000000</td>\n      <td>0.000000</td>\n    </tr>\n  </tbody>\n</table>\n</div>"
     },
     "metadata": {}
    },
    {
     "output_type": "stream",
     "name": "stdout",
     "text": [
      "\n",
      "\n",
      "Scoring History: \n"
     ]
    },
    {
     "output_type": "display_data",
     "data": {
      "text/plain": "                timestamp    duration  iteration  lambda  predictors  \\\n0     2021-04-05 13:36:54   0.000 sec          1  .34E-2           1   \n1     2021-04-05 13:36:54   0.052 sec          3  .31E-2           2   \n2     2021-04-05 13:36:54   0.073 sec          5  .29E-2           2   \n3     2021-04-05 13:36:54   0.092 sec          7  .26E-2           2   \n4     2021-04-05 13:36:54   0.113 sec          9  .24E-2           2   \n5     2021-04-05 13:36:54   0.132 sec         11  .22E-2           2   \n6     2021-04-05 13:36:54   0.152 sec         13   .2E-2           2   \n7     2021-04-05 13:36:54   0.171 sec         15  .18E-2           2   \n8     2021-04-05 13:36:54   0.189 sec         17  .16E-2           2   \n9     2021-04-05 13:36:54   0.207 sec         19  .15E-2           2   \n10    2021-04-05 13:36:54   0.225 sec         21  .14E-2           2   \n11    2021-04-05 13:36:54   0.246 sec         23  .12E-2           2   \n12    2021-04-05 13:36:54   0.264 sec         24  .11E-2           2   \n13    2021-04-05 13:36:54   0.281 sec         25   .1E-2           2   \n14    2021-04-05 13:36:54   0.300 sec         26  .94E-3           2   \n15    2021-04-05 13:36:54   0.317 sec         27  .85E-3           2   \n16    2021-04-05 13:36:54   0.335 sec         28  .78E-3           2   \n17    2021-04-05 13:36:54   0.352 sec         29  .71E-3           2   \n18    2021-04-05 13:36:54   0.414 sec         30  .64E-3           2   \n19    2021-04-05 13:36:54   0.444 sec         31  .59E-3           2   \n\n    deviance_train  deviance_test  \n0         0.037447       0.045118  \n1         0.036715       0.044232  \n2         0.036127       0.043523  \n3         0.035655       0.042957  \n4         0.035275       0.042503  \n5         0.034968       0.042139  \n6         0.034722       0.041847  \n7         0.034519       0.041609  \n8         0.034354       0.041417  \n9         0.034219       0.041261  \n10        0.034109       0.041134  \n11        0.034018       0.041031  \n12        0.033943       0.040946  \n13        0.033882       0.040879  \n14        0.033832       0.040824  \n15        0.033790       0.040779  \n16        0.033756       0.040742  \n17        0.033728       0.040712  \n18        0.033704       0.040688  \n19        0.033685       0.040669  ",
      "text/html": "<div>\n<style scoped>\n    .dataframe tbody tr th:only-of-type {\n        vertical-align: middle;\n    }\n\n    .dataframe tbody tr th {\n        vertical-align: top;\n    }\n\n    .dataframe thead th {\n        text-align: right;\n    }\n</style>\n<table border=\"1\" class=\"dataframe\">\n  <thead>\n    <tr style=\"text-align: right;\">\n      <th></th>\n      <th></th>\n      <th>timestamp</th>\n      <th>duration</th>\n      <th>iteration</th>\n      <th>lambda</th>\n      <th>predictors</th>\n      <th>deviance_train</th>\n      <th>deviance_test</th>\n    </tr>\n  </thead>\n  <tbody>\n    <tr>\n      <th>0</th>\n      <td></td>\n      <td>2021-04-05 13:36:54</td>\n      <td>0.000 sec</td>\n      <td>1</td>\n      <td>.34E-2</td>\n      <td>1</td>\n      <td>0.037447</td>\n      <td>0.045118</td>\n    </tr>\n    <tr>\n      <th>1</th>\n      <td></td>\n      <td>2021-04-05 13:36:54</td>\n      <td>0.052 sec</td>\n      <td>3</td>\n      <td>.31E-2</td>\n      <td>2</td>\n      <td>0.036715</td>\n      <td>0.044232</td>\n    </tr>\n    <tr>\n      <th>2</th>\n      <td></td>\n      <td>2021-04-05 13:36:54</td>\n      <td>0.073 sec</td>\n      <td>5</td>\n      <td>.29E-2</td>\n      <td>2</td>\n      <td>0.036127</td>\n      <td>0.043523</td>\n    </tr>\n    <tr>\n      <th>3</th>\n      <td></td>\n      <td>2021-04-05 13:36:54</td>\n      <td>0.092 sec</td>\n      <td>7</td>\n      <td>.26E-2</td>\n      <td>2</td>\n      <td>0.035655</td>\n      <td>0.042957</td>\n    </tr>\n    <tr>\n      <th>4</th>\n      <td></td>\n      <td>2021-04-05 13:36:54</td>\n      <td>0.113 sec</td>\n      <td>9</td>\n      <td>.24E-2</td>\n      <td>2</td>\n      <td>0.035275</td>\n      <td>0.042503</td>\n    </tr>\n    <tr>\n      <th>5</th>\n      <td></td>\n      <td>2021-04-05 13:36:54</td>\n      <td>0.132 sec</td>\n      <td>11</td>\n      <td>.22E-2</td>\n      <td>2</td>\n      <td>0.034968</td>\n      <td>0.042139</td>\n    </tr>\n    <tr>\n      <th>6</th>\n      <td></td>\n      <td>2021-04-05 13:36:54</td>\n      <td>0.152 sec</td>\n      <td>13</td>\n      <td>.2E-2</td>\n      <td>2</td>\n      <td>0.034722</td>\n      <td>0.041847</td>\n    </tr>\n    <tr>\n      <th>7</th>\n      <td></td>\n      <td>2021-04-05 13:36:54</td>\n      <td>0.171 sec</td>\n      <td>15</td>\n      <td>.18E-2</td>\n      <td>2</td>\n      <td>0.034519</td>\n      <td>0.041609</td>\n    </tr>\n    <tr>\n      <th>8</th>\n      <td></td>\n      <td>2021-04-05 13:36:54</td>\n      <td>0.189 sec</td>\n      <td>17</td>\n      <td>.16E-2</td>\n      <td>2</td>\n      <td>0.034354</td>\n      <td>0.041417</td>\n    </tr>\n    <tr>\n      <th>9</th>\n      <td></td>\n      <td>2021-04-05 13:36:54</td>\n      <td>0.207 sec</td>\n      <td>19</td>\n      <td>.15E-2</td>\n      <td>2</td>\n      <td>0.034219</td>\n      <td>0.041261</td>\n    </tr>\n    <tr>\n      <th>10</th>\n      <td></td>\n      <td>2021-04-05 13:36:54</td>\n      <td>0.225 sec</td>\n      <td>21</td>\n      <td>.14E-2</td>\n      <td>2</td>\n      <td>0.034109</td>\n      <td>0.041134</td>\n    </tr>\n    <tr>\n      <th>11</th>\n      <td></td>\n      <td>2021-04-05 13:36:54</td>\n      <td>0.246 sec</td>\n      <td>23</td>\n      <td>.12E-2</td>\n      <td>2</td>\n      <td>0.034018</td>\n      <td>0.041031</td>\n    </tr>\n    <tr>\n      <th>12</th>\n      <td></td>\n      <td>2021-04-05 13:36:54</td>\n      <td>0.264 sec</td>\n      <td>24</td>\n      <td>.11E-2</td>\n      <td>2</td>\n      <td>0.033943</td>\n      <td>0.040946</td>\n    </tr>\n    <tr>\n      <th>13</th>\n      <td></td>\n      <td>2021-04-05 13:36:54</td>\n      <td>0.281 sec</td>\n      <td>25</td>\n      <td>.1E-2</td>\n      <td>2</td>\n      <td>0.033882</td>\n      <td>0.040879</td>\n    </tr>\n    <tr>\n      <th>14</th>\n      <td></td>\n      <td>2021-04-05 13:36:54</td>\n      <td>0.300 sec</td>\n      <td>26</td>\n      <td>.94E-3</td>\n      <td>2</td>\n      <td>0.033832</td>\n      <td>0.040824</td>\n    </tr>\n    <tr>\n      <th>15</th>\n      <td></td>\n      <td>2021-04-05 13:36:54</td>\n      <td>0.317 sec</td>\n      <td>27</td>\n      <td>.85E-3</td>\n      <td>2</td>\n      <td>0.033790</td>\n      <td>0.040779</td>\n    </tr>\n    <tr>\n      <th>16</th>\n      <td></td>\n      <td>2021-04-05 13:36:54</td>\n      <td>0.335 sec</td>\n      <td>28</td>\n      <td>.78E-3</td>\n      <td>2</td>\n      <td>0.033756</td>\n      <td>0.040742</td>\n    </tr>\n    <tr>\n      <th>17</th>\n      <td></td>\n      <td>2021-04-05 13:36:54</td>\n      <td>0.352 sec</td>\n      <td>29</td>\n      <td>.71E-3</td>\n      <td>2</td>\n      <td>0.033728</td>\n      <td>0.040712</td>\n    </tr>\n    <tr>\n      <th>18</th>\n      <td></td>\n      <td>2021-04-05 13:36:54</td>\n      <td>0.414 sec</td>\n      <td>30</td>\n      <td>.64E-3</td>\n      <td>2</td>\n      <td>0.033704</td>\n      <td>0.040688</td>\n    </tr>\n    <tr>\n      <th>19</th>\n      <td></td>\n      <td>2021-04-05 13:36:54</td>\n      <td>0.444 sec</td>\n      <td>31</td>\n      <td>.59E-3</td>\n      <td>2</td>\n      <td>0.033685</td>\n      <td>0.040669</td>\n    </tr>\n  </tbody>\n</table>\n</div>"
     },
     "metadata": {}
    },
    {
     "output_type": "stream",
     "name": "stdout",
     "text": [
      "\n",
      "See the whole table with table.as_data_frame()\n"
     ]
    },
    {
     "output_type": "execute_result",
     "data": {
      "text/plain": []
     },
     "metadata": {},
     "execution_count": 433
    }
   ],
   "source": [
    "glm_model"
   ]
  },
  {
   "cell_type": "code",
   "execution_count": 430,
   "metadata": {},
   "outputs": [
    {
     "output_type": "stream",
     "name": "stdout",
     "text": [
      "glm prediction progress: |████████████████████████████████████████████████| 100%\n"
     ]
    },
    {
     "output_type": "execute_result",
     "data": {
      "text/plain": [
       "         p1  TARGET\n",
       "0  0.001463       0\n",
       "1  0.000438       0\n",
       "2  0.001066       0\n",
       "3  0.000830       0\n",
       "4  0.000589       0"
      ],
      "text/html": "<div>\n<style scoped>\n    .dataframe tbody tr th:only-of-type {\n        vertical-align: middle;\n    }\n\n    .dataframe tbody tr th {\n        vertical-align: top;\n    }\n\n    .dataframe thead th {\n        text-align: right;\n    }\n</style>\n<table border=\"1\" class=\"dataframe\">\n  <thead>\n    <tr style=\"text-align: right;\">\n      <th></th>\n      <th>p1</th>\n      <th>TARGET</th>\n    </tr>\n  </thead>\n  <tbody>\n    <tr>\n      <th>0</th>\n      <td>0.001463</td>\n      <td>0</td>\n    </tr>\n    <tr>\n      <th>1</th>\n      <td>0.000438</td>\n      <td>0</td>\n    </tr>\n    <tr>\n      <th>2</th>\n      <td>0.001066</td>\n      <td>0</td>\n    </tr>\n    <tr>\n      <th>3</th>\n      <td>0.000830</td>\n      <td>0</td>\n    </tr>\n    <tr>\n      <th>4</th>\n      <td>0.000589</td>\n      <td>0</td>\n    </tr>\n  </tbody>\n</table>\n</div>"
     },
     "metadata": {},
     "execution_count": 430
    }
   ],
   "source": [
    "val_df = glm_model.predict(h2o_val)['p1'].as_data_frame()\n",
    "val_df['TARGET'] = h2o_val['TARGET'].as_data_frame()\n",
    "val_df.head()"
   ]
  },
  {
   "cell_type": "code",
   "execution_count": 431,
   "metadata": {},
   "outputs": [
    {
     "output_type": "execute_result",
     "data": {
      "text/plain": [
       "0    30264\n",
       "1      102\n",
       "Name: TARGET, dtype: int64"
      ]
     },
     "metadata": {},
     "execution_count": 431
    }
   ],
   "source": [
    "val_df['TARGET'].value_counts()"
   ]
  },
  {
   "cell_type": "code",
   "execution_count": 432,
   "metadata": {},
   "outputs": [
    {
     "output_type": "execute_result",
     "data": {
      "text/plain": [
       "0.8222503083972156"
      ]
     },
     "metadata": {},
     "execution_count": 432
    }
   ],
   "source": [
    "roc_auc_score(val_df['TARGET'].astype(int), val_df['p1'])"
   ]
  },
  {
   "cell_type": "code",
   "execution_count": null,
   "metadata": {},
   "outputs": [],
   "source": [
    "# now what is auc at the correc time when "
   ]
  },
  {
   "cell_type": "code",
   "execution_count": 218,
   "metadata": {},
   "outputs": [],
   "source": [
    "# now fit glm lasso \n",
    "from sklearn.preprocessing import StandardScaler\n",
    "from sklearn.model_selection import cross_val_score\n",
    "from sklearn.model_selection import GridSearchCV\n",
    "from sklearn.linear_model import LogisticRegression"
   ]
  },
  {
   "cell_type": "code",
   "execution_count": 219,
   "metadata": {},
   "outputs": [],
   "source": [
    "X_train_surv_testing = StandardScaler().fit_transform(X_train_surv)\n",
    "mod_testing = LogisticRegression(random_state=0, max_iter=1000, solver='saga', penalty='l2').fit(X_train_surv_testing, y_train_surv)"
   ]
  },
  {
   "cell_type": "code",
   "execution_count": 220,
   "metadata": {},
   "outputs": [
    {
     "output_type": "execute_result",
     "data": {
      "text/plain": [
       "13"
      ]
     },
     "metadata": {},
     "execution_count": 220
    }
   ],
   "source": [
    "mod_testing.predict(X_train_surv_testing).sum()"
   ]
  },
  {
   "cell_type": "code",
   "execution_count": 221,
   "metadata": {},
   "outputs": [
    {
     "output_type": "execute_result",
     "data": {
      "text/plain": [
       "0.0029045930111935504"
      ]
     },
     "metadata": {},
     "execution_count": 221
    }
   ],
   "source": [
    "sum(y_train_surv)/len(y_train_surv)"
   ]
  },
  {
   "cell_type": "code",
   "execution_count": 222,
   "metadata": {},
   "outputs": [
    {
     "output_type": "execute_result",
     "data": {
      "text/plain": [
       "0.14583333333333334"
      ]
     },
     "metadata": {},
     "execution_count": 222
    }
   ],
   "source": [
    "sum(y_train)/len(y_train)"
   ]
  },
  {
   "cell_type": "code",
   "execution_count": null,
   "metadata": {},
   "outputs": [],
   "source": []
  },
  {
   "cell_type": "code",
   "execution_count": 384,
   "metadata": {},
   "outputs": [],
   "source": [
    "tuned_parameters = [{'C': np.logspace(-4, -0.5, 20)}]\n",
    "n_folds = 2\n",
    "# don't care that the solution doesnt converge -> relative want the C that does best and then later will increase max_iter\n",
    "lasso_hyper_parameter = Pipeline(steps=[\n",
    "                                 ('drop_feats', sel.DropFeatures(features_to_drop=['Recency'])),\n",
    "                                 ('scaler', StandardScaler()),\n",
    "                                 ('lasso', GridSearchCV(LogisticRegression(random_state=0,\n",
    "                                                                           solver='saga',\n",
    "                                                                           penalty='l1'),\n",
    "                                                        param_grid = tuned_parameters,\n",
    "                                                        cv = n_folds,\n",
    "                                                        refit=False)) # i.e. on best param refit\n",
    "                                ])"
   ]
  },
  {
   "cell_type": "code",
   "execution_count": 368,
   "metadata": {
    "tags": []
   },
   "outputs": [
    {
     "output_type": "stream",
     "name": "stderr",
     "text": [
      "/Users/christopherhassan/opt/anaconda3/lib/python3.7/site-packages/sklearn/linear_model/_sag.py:329: ConvergenceWarning: The max_iter was reached which means the coef_ did not converge\n  \"the coef_ did not converge\", ConvergenceWarning)\n"
     ]
    },
    {
     "output_type": "execute_result",
     "data": {
      "text/plain": [
       "Pipeline(steps=[('drop_feats', DropFeatures(features_to_drop=['Recency'])),\n",
       "                ('scaler', StandardScaler()),\n",
       "                ('lasso',\n",
       "                 GridSearchCV(cv=2,\n",
       "                              estimator=LogisticRegression(penalty='l1',\n",
       "                                                           random_state=0,\n",
       "                                                           solver='saga'),\n",
       "                              param_grid=[{'C': array([1.00000000e-04, 2.44843675e-04, 5.99484250e-04, 1.46779927e-03,\n",
       "       3.59381366e-03, 8.79922544e-03, 2.15443469e-02, 5.27499706e-02,\n",
       "       1.29154967e-01, 3.16227766e-01])}],\n",
       "                              refit=False))])"
      ]
     },
     "metadata": {},
     "execution_count": 368
    }
   ],
   "source": [
    "lasso_hyper_parameter.fit(X_train_surv, y_train_surv)"
   ]
  },
  {
   "cell_type": "code",
   "execution_count": 369,
   "metadata": {},
   "outputs": [
    {
     "output_type": "execute_result",
     "data": {
      "text/plain": [
       "0.0001"
      ]
     },
     "metadata": {},
     "execution_count": 369
    }
   ],
   "source": [
    "lasso_hyper_parameter.named_steps['lasso'].best_params_['C']"
   ]
  },
  {
   "cell_type": "code",
   "execution_count": null,
   "metadata": {},
   "outputs": [],
   "source": [
    "\n"
   ]
  },
  {
   "cell_type": "code",
   "execution_count": 370,
   "metadata": {},
   "outputs": [
    {
     "output_type": "execute_result",
     "data": {
      "text/plain": [
       "Pipeline(steps=[('drop_feats', DropFeatures(features_to_drop=['Recency'])),\n",
       "                ('scaler', StandardScaler()),\n",
       "                ('lasso',\n",
       "                 LogisticRegression(C=0.0001, max_iter=5000, penalty='l1',\n",
       "                                    random_state=0, solver='saga'))])"
      ]
     },
     "metadata": {},
     "execution_count": 370
    }
   ],
   "source": [
    "# above takes forever to run so allow for non convergence and pick the best toption\n",
    "lasso_pipeline = Pipeline(steps=[\n",
    "                                 ('drop_feats', sel.DropFeatures(features_to_drop=['Recency'])),\n",
    "                                 ('scaler', StandardScaler()),\n",
    "                                 # drop recency var as do not want it as a predictor\n",
    "                                 ('lasso', LogisticRegression(random_state=0,\n",
    "                                                              max_iter=5000,\n",
    "                                                              C = lasso_hyper_parameter.named_steps['lasso'].best_params_['C'],\n",
    "                                                              solver='saga',\n",
    "                                                              penalty='l1'))\n",
    "                                ])\n",
    "lasso_pipeline.fit(X_train_surv, y_train_surv)\n",
    "\n",
    "# the above takes forever! but it completes -> I think sklearns implementation is slower than h2os -> but why! why! it's simply lasso?!"
   ]
  },
  {
   "cell_type": "code",
   "execution_count": 371,
   "metadata": {},
   "outputs": [
    {
     "output_type": "execute_result",
     "data": {
      "text/plain": [
       "array([-6.5820425, -6.5820425, -6.5820425, ..., -6.5820425, -6.5820425,\n",
       "       -6.5820425])"
      ]
     },
     "metadata": {},
     "execution_count": 371
    }
   ],
   "source": [
    "lasso_pipeline.predict_log_proba(X_train_surv)[:,1]"
   ]
  },
  {
   "cell_type": "code",
   "execution_count": 372,
   "metadata": {},
   "outputs": [
    {
     "output_type": "execute_result",
     "data": {
      "text/plain": [
       "      logit  TARGET\n",
       "0 -6.582043       0\n",
       "1 -6.582043       0\n",
       "2 -6.582043       0\n",
       "3 -6.582043       0\n",
       "4 -6.582043       0"
      ],
      "text/html": "<div>\n<style scoped>\n    .dataframe tbody tr th:only-of-type {\n        vertical-align: middle;\n    }\n\n    .dataframe tbody tr th {\n        vertical-align: top;\n    }\n\n    .dataframe thead th {\n        text-align: right;\n    }\n</style>\n<table border=\"1\" class=\"dataframe\">\n  <thead>\n    <tr style=\"text-align: right;\">\n      <th></th>\n      <th>logit</th>\n      <th>TARGET</th>\n    </tr>\n  </thead>\n  <tbody>\n    <tr>\n      <th>0</th>\n      <td>-6.582043</td>\n      <td>0</td>\n    </tr>\n    <tr>\n      <th>1</th>\n      <td>-6.582043</td>\n      <td>0</td>\n    </tr>\n    <tr>\n      <th>2</th>\n      <td>-6.582043</td>\n      <td>0</td>\n    </tr>\n    <tr>\n      <th>3</th>\n      <td>-6.582043</td>\n      <td>0</td>\n    </tr>\n    <tr>\n      <th>4</th>\n      <td>-6.582043</td>\n      <td>0</td>\n    </tr>\n  </tbody>\n</table>\n</div>"
     },
     "metadata": {},
     "execution_count": 372
    }
   ],
   "source": [
    "X_train_preds = pd.DataFrame({'logit' : lasso_pipeline.predict_log_proba(X_train_surv)[:, 1]})\n",
    "X_train_preds['TARGET'] = y_train_surv\n",
    "X_train_preds.head()"
   ]
  },
  {
   "cell_type": "code",
   "execution_count": 373,
   "metadata": {},
   "outputs": [
    {
     "output_type": "execute_result",
     "data": {
      "text/plain": [
       "      logit  TARGET      PROB     PROB2\n",
       "0 -6.582043       0  0.001385  0.001385\n",
       "1 -6.582043       0  0.001385  0.001385\n",
       "2 -6.582043       0  0.001385  0.001385\n",
       "3 -6.582043       0  0.001385  0.001385\n",
       "4 -6.582043       0  0.001385  0.001385"
      ],
      "text/html": "<div>\n<style scoped>\n    .dataframe tbody tr th:only-of-type {\n        vertical-align: middle;\n    }\n\n    .dataframe tbody tr th {\n        vertical-align: top;\n    }\n\n    .dataframe thead th {\n        text-align: right;\n    }\n</style>\n<table border=\"1\" class=\"dataframe\">\n  <thead>\n    <tr style=\"text-align: right;\">\n      <th></th>\n      <th>logit</th>\n      <th>TARGET</th>\n      <th>PROB</th>\n      <th>PROB2</th>\n    </tr>\n  </thead>\n  <tbody>\n    <tr>\n      <th>0</th>\n      <td>-6.582043</td>\n      <td>0</td>\n      <td>0.001385</td>\n      <td>0.001385</td>\n    </tr>\n    <tr>\n      <th>1</th>\n      <td>-6.582043</td>\n      <td>0</td>\n      <td>0.001385</td>\n      <td>0.001385</td>\n    </tr>\n    <tr>\n      <th>2</th>\n      <td>-6.582043</td>\n      <td>0</td>\n      <td>0.001385</td>\n      <td>0.001385</td>\n    </tr>\n    <tr>\n      <th>3</th>\n      <td>-6.582043</td>\n      <td>0</td>\n      <td>0.001385</td>\n      <td>0.001385</td>\n    </tr>\n    <tr>\n      <th>4</th>\n      <td>-6.582043</td>\n      <td>0</td>\n      <td>0.001385</td>\n      <td>0.001385</td>\n    </tr>\n  </tbody>\n</table>\n</div>"
     },
     "metadata": {},
     "execution_count": 373
    }
   ],
   "source": [
    "X_train_preds['PROB'] = np.exp(X_train_preds['logit'])\n",
    "X_train_preds['PROB2'] = lasso_pipeline.predict_proba(X_train_surv)[:, 1]\n",
    "X_train_preds.head()"
   ]
  },
  {
   "cell_type": "code",
   "execution_count": 374,
   "metadata": {},
   "outputs": [
    {
     "output_type": "execute_result",
     "data": {
      "text/plain": [
       "0.001385017499278144"
      ]
     },
     "metadata": {},
     "execution_count": 374
    }
   ],
   "source": [
    "X_train_preds['PROB'].min()"
   ]
  },
  {
   "cell_type": "code",
   "execution_count": 375,
   "metadata": {},
   "outputs": [
    {
     "output_type": "execute_result",
     "data": {
      "text/plain": [
       "0.001385017499278144"
      ]
     },
     "metadata": {},
     "execution_count": 375
    }
   ],
   "source": [
    "X_train_preds['PROB'].max()"
   ]
  },
  {
   "cell_type": "code",
   "execution_count": 376,
   "metadata": {},
   "outputs": [
    {
     "output_type": "execute_result",
     "data": {
      "text/plain": [
       "0.0013850174992781443"
      ]
     },
     "metadata": {},
     "execution_count": 376
    }
   ],
   "source": [
    "X_train_preds['PROB2'].max()"
   ]
  },
  {
   "cell_type": "code",
   "execution_count": 377,
   "metadata": {},
   "outputs": [
    {
     "output_type": "execute_result",
     "data": {
      "text/plain": [
       "1"
      ]
     },
     "metadata": {},
     "execution_count": 377
    }
   ],
   "source": [
    "len(X_train_preds['PROB'].unique())"
   ]
  },
  {
   "cell_type": "code",
   "execution_count": 378,
   "metadata": {},
   "outputs": [
    {
     "output_type": "execute_result",
     "data": {
      "text/plain": [
       "1"
      ]
     },
     "metadata": {},
     "execution_count": 378
    }
   ],
   "source": [
    "len(X_train_preds['PROB2'].unique())"
   ]
  },
  {
   "cell_type": "code",
   "execution_count": 379,
   "metadata": {},
   "outputs": [],
   "source": [
    "X_train_preds['PROB'] = X_train_preds['PROB'].round(4)\n",
    "X_train_preds['PROB2'] = X_train_preds['PROB2'].round(4)\n",
    "X_train_preds['DIFF'] = (X_train_preds['PROB2']-X_train_preds['PROB']).abs()"
   ]
  },
  {
   "cell_type": "code",
   "execution_count": 380,
   "metadata": {},
   "outputs": [
    {
     "output_type": "execute_result",
     "data": {
      "text/plain": [
       "0.0    101219\n",
       "Name: DIFF, dtype: int64"
      ]
     },
     "metadata": {},
     "execution_count": 380
    }
   ],
   "source": [
    "X_train_preds['DIFF'].value_counts()"
   ]
  },
  {
   "cell_type": "code",
   "execution_count": 298,
   "metadata": {},
   "outputs": [
    {
     "output_type": "execute_result",
     "data": {
      "text/plain": [
       "       logit  TARGET  PROB  PROB2  DIFF\n",
       "0 -81.838687       0   0.0    0.0   0.0\n",
       "1 -80.997965       0   0.0    0.0   0.0\n",
       "2 -80.157243       0   0.0    0.0   0.0\n",
       "3 -79.316522       0   0.0    0.0   0.0\n",
       "4 -78.475800       0   0.0    0.0   0.0"
      ],
      "text/html": "<div>\n<style scoped>\n    .dataframe tbody tr th:only-of-type {\n        vertical-align: middle;\n    }\n\n    .dataframe tbody tr th {\n        vertical-align: top;\n    }\n\n    .dataframe thead th {\n        text-align: right;\n    }\n</style>\n<table border=\"1\" class=\"dataframe\">\n  <thead>\n    <tr style=\"text-align: right;\">\n      <th></th>\n      <th>logit</th>\n      <th>TARGET</th>\n      <th>PROB</th>\n      <th>PROB2</th>\n      <th>DIFF</th>\n    </tr>\n  </thead>\n  <tbody>\n    <tr>\n      <th>0</th>\n      <td>-81.838687</td>\n      <td>0</td>\n      <td>0.0</td>\n      <td>0.0</td>\n      <td>0.0</td>\n    </tr>\n    <tr>\n      <th>1</th>\n      <td>-80.997965</td>\n      <td>0</td>\n      <td>0.0</td>\n      <td>0.0</td>\n      <td>0.0</td>\n    </tr>\n    <tr>\n      <th>2</th>\n      <td>-80.157243</td>\n      <td>0</td>\n      <td>0.0</td>\n      <td>0.0</td>\n      <td>0.0</td>\n    </tr>\n    <tr>\n      <th>3</th>\n      <td>-79.316522</td>\n      <td>0</td>\n      <td>0.0</td>\n      <td>0.0</td>\n      <td>0.0</td>\n    </tr>\n    <tr>\n      <th>4</th>\n      <td>-78.475800</td>\n      <td>0</td>\n      <td>0.0</td>\n      <td>0.0</td>\n      <td>0.0</td>\n    </tr>\n  </tbody>\n</table>\n</div>"
     },
     "metadata": {},
     "execution_count": 298
    }
   ],
   "source": []
  },
  {
   "cell_type": "code",
   "execution_count": 381,
   "metadata": {},
   "outputs": [],
   "source": [
    "# i.e. the above literally is the log of the probs NOT the logit which is what you normally have in logistic regression!"
   ]
  },
  {
   "cell_type": "code",
   "execution_count": 382,
   "metadata": {},
   "outputs": [],
   "source": [
    "from sklearn.metrics import roc_auc_score"
   ]
  },
  {
   "cell_type": "code",
   "execution_count": 383,
   "metadata": {},
   "outputs": [
    {
     "output_type": "execute_result",
     "data": {
      "text/plain": [
       "0.5"
      ]
     },
     "metadata": {},
     "execution_count": 383
    }
   ],
   "source": [
    "roc_auc_score(y_train_surv, X_train_preds['PROB'])"
   ]
  },
  {
   "cell_type": "code",
   "execution_count": 351,
   "metadata": {},
   "outputs": [],
   "source": [
    "# now the above is of the incorrect data which has the survival data\n",
    "# we just want the prediction from the last observation that's all\n",
    "class Save_Pipeline():\n",
    "    def __init__(self):\n",
    "        pass\n",
    "\n",
    "save_pipeline=Save_Pipeline()\n",
    "\n",
    "save_pipeline.data_prep_pipe = data_prep_pipe\n",
    "save_pipeline.lasso_pipeline = lasso_pipeline"
   ]
  },
  {
   "cell_type": "code",
   "execution_count": 352,
   "metadata": {},
   "outputs": [],
   "source": [
    "# I think h2o is faster than sklearn's lasso regression and it makes more sense! i.e. not this odd C parameter, which has a SVM interpretation\n",
    "X_train_surv['pred_prob'] = lasso_pipeline.predict_log_proba(X_train_surv)[:, 1]"
   ]
  },
  {
   "cell_type": "code",
   "execution_count": 353,
   "metadata": {},
   "outputs": [],
   "source": [
    "mask = list(X_train_surv.query('time==Recency').index)"
   ]
  },
  {
   "cell_type": "code",
   "execution_count": 354,
   "metadata": {},
   "outputs": [
    {
     "output_type": "execute_result",
     "data": {
      "text/plain": [
       "10"
      ]
     },
     "metadata": {},
     "execution_count": 354
    }
   ],
   "source": [
    "10"
   ]
  },
  {
   "cell_type": "code",
   "execution_count": 355,
   "metadata": {},
   "outputs": [
    {
     "output_type": "execute_result",
     "data": {
      "text/plain": [
       "   Education  Marital_Status   Income  Kidhome  Teenhome  Recency  MntWines  \\\n",
       "0          2               3  48789.0        2         2       94       351   \n",
       "1          2               3  48789.0        2         2       94       351   \n",
       "2          2               3  48789.0        2         2       94       351   \n",
       "3          2               3  48789.0        2         2       94       351   \n",
       "4          2               3  48789.0        2         2       94       351   \n",
       "\n",
       "   MntFruits  MntMeatProducts  MntFishProducts  MntSweetProducts  \\\n",
       "0         16              156                7                 5   \n",
       "1         16              156                7                 5   \n",
       "2         16              156                7                 5   \n",
       "3         16              156                7                 5   \n",
       "4         16              156                7                 5   \n",
       "\n",
       "   MntGoldProds  NumDealsPurchases  NumWebPurchases  NumCatalogPurchases  \\\n",
       "0           145                  3                4                    4   \n",
       "1           145                  3                4                    4   \n",
       "2           145                  3                4                    4   \n",
       "3           145                  3                4                    4   \n",
       "4           145                  3                4                    4   \n",
       "\n",
       "   NumStorePurchases  NumWebVisitsMonth AcceptedCmp3 AcceptedCmp4  \\\n",
       "0                 10                  4            0            0   \n",
       "1                 10                  4            0            0   \n",
       "2                 10                  4            0            0   \n",
       "3                 10                  4            0            0   \n",
       "4                 10                  4            0            0   \n",
       "\n",
       "  AcceptedCmp5 AcceptedCmp1 AcceptedCmp2 Complain  cust_age  cust_tenure  \\\n",
       "0            0            0            0        0         9            9   \n",
       "1            0            0            0        0         9            9   \n",
       "2            0            0            0        0         9            9   \n",
       "3            0            0            0        0         9            9   \n",
       "4            0            0            0        0         9            9   \n",
       "\n",
       "   Income_na time  pred_prob  \n",
       "0          0    0  -5.578490  \n",
       "1          0    1  -5.572851  \n",
       "2          0    2  -5.567213  \n",
       "3          0    3  -5.561574  \n",
       "4          0    4  -5.555935  "
      ],
      "text/html": "<div>\n<style scoped>\n    .dataframe tbody tr th:only-of-type {\n        vertical-align: middle;\n    }\n\n    .dataframe tbody tr th {\n        vertical-align: top;\n    }\n\n    .dataframe thead th {\n        text-align: right;\n    }\n</style>\n<table border=\"1\" class=\"dataframe\">\n  <thead>\n    <tr style=\"text-align: right;\">\n      <th></th>\n      <th>Education</th>\n      <th>Marital_Status</th>\n      <th>Income</th>\n      <th>Kidhome</th>\n      <th>Teenhome</th>\n      <th>Recency</th>\n      <th>MntWines</th>\n      <th>MntFruits</th>\n      <th>MntMeatProducts</th>\n      <th>MntFishProducts</th>\n      <th>MntSweetProducts</th>\n      <th>MntGoldProds</th>\n      <th>NumDealsPurchases</th>\n      <th>NumWebPurchases</th>\n      <th>NumCatalogPurchases</th>\n      <th>NumStorePurchases</th>\n      <th>NumWebVisitsMonth</th>\n      <th>AcceptedCmp3</th>\n      <th>AcceptedCmp4</th>\n      <th>AcceptedCmp5</th>\n      <th>AcceptedCmp1</th>\n      <th>AcceptedCmp2</th>\n      <th>Complain</th>\n      <th>cust_age</th>\n      <th>cust_tenure</th>\n      <th>Income_na</th>\n      <th>time</th>\n      <th>pred_prob</th>\n    </tr>\n  </thead>\n  <tbody>\n    <tr>\n      <th>0</th>\n      <td>2</td>\n      <td>3</td>\n      <td>48789.0</td>\n      <td>2</td>\n      <td>2</td>\n      <td>94</td>\n      <td>351</td>\n      <td>16</td>\n      <td>156</td>\n      <td>7</td>\n      <td>5</td>\n      <td>145</td>\n      <td>3</td>\n      <td>4</td>\n      <td>4</td>\n      <td>10</td>\n      <td>4</td>\n      <td>0</td>\n      <td>0</td>\n      <td>0</td>\n      <td>0</td>\n      <td>0</td>\n      <td>0</td>\n      <td>9</td>\n      <td>9</td>\n      <td>0</td>\n      <td>0</td>\n      <td>-5.578490</td>\n    </tr>\n    <tr>\n      <th>1</th>\n      <td>2</td>\n      <td>3</td>\n      <td>48789.0</td>\n      <td>2</td>\n      <td>2</td>\n      <td>94</td>\n      <td>351</td>\n      <td>16</td>\n      <td>156</td>\n      <td>7</td>\n      <td>5</td>\n      <td>145</td>\n      <td>3</td>\n      <td>4</td>\n      <td>4</td>\n      <td>10</td>\n      <td>4</td>\n      <td>0</td>\n      <td>0</td>\n      <td>0</td>\n      <td>0</td>\n      <td>0</td>\n      <td>0</td>\n      <td>9</td>\n      <td>9</td>\n      <td>0</td>\n      <td>1</td>\n      <td>-5.572851</td>\n    </tr>\n    <tr>\n      <th>2</th>\n      <td>2</td>\n      <td>3</td>\n      <td>48789.0</td>\n      <td>2</td>\n      <td>2</td>\n      <td>94</td>\n      <td>351</td>\n      <td>16</td>\n      <td>156</td>\n      <td>7</td>\n      <td>5</td>\n      <td>145</td>\n      <td>3</td>\n      <td>4</td>\n      <td>4</td>\n      <td>10</td>\n      <td>4</td>\n      <td>0</td>\n      <td>0</td>\n      <td>0</td>\n      <td>0</td>\n      <td>0</td>\n      <td>0</td>\n      <td>9</td>\n      <td>9</td>\n      <td>0</td>\n      <td>2</td>\n      <td>-5.567213</td>\n    </tr>\n    <tr>\n      <th>3</th>\n      <td>2</td>\n      <td>3</td>\n      <td>48789.0</td>\n      <td>2</td>\n      <td>2</td>\n      <td>94</td>\n      <td>351</td>\n      <td>16</td>\n      <td>156</td>\n      <td>7</td>\n      <td>5</td>\n      <td>145</td>\n      <td>3</td>\n      <td>4</td>\n      <td>4</td>\n      <td>10</td>\n      <td>4</td>\n      <td>0</td>\n      <td>0</td>\n      <td>0</td>\n      <td>0</td>\n      <td>0</td>\n      <td>0</td>\n      <td>9</td>\n      <td>9</td>\n      <td>0</td>\n      <td>3</td>\n      <td>-5.561574</td>\n    </tr>\n    <tr>\n      <th>4</th>\n      <td>2</td>\n      <td>3</td>\n      <td>48789.0</td>\n      <td>2</td>\n      <td>2</td>\n      <td>94</td>\n      <td>351</td>\n      <td>16</td>\n      <td>156</td>\n      <td>7</td>\n      <td>5</td>\n      <td>145</td>\n      <td>3</td>\n      <td>4</td>\n      <td>4</td>\n      <td>10</td>\n      <td>4</td>\n      <td>0</td>\n      <td>0</td>\n      <td>0</td>\n      <td>0</td>\n      <td>0</td>\n      <td>0</td>\n      <td>9</td>\n      <td>9</td>\n      <td>0</td>\n      <td>4</td>\n      <td>-5.555935</td>\n    </tr>\n  </tbody>\n</table>\n</div>"
     },
     "metadata": {},
     "execution_count": 355
    }
   ],
   "source": [
    "X_train_surv.head()"
   ]
  },
  {
   "cell_type": "code",
   "execution_count": 356,
   "metadata": {},
   "outputs": [
    {
     "output_type": "execute_result",
     "data": {
      "text/plain": [
       "0.8514600962336154"
      ]
     },
     "metadata": {},
     "execution_count": 356
    }
   ],
   "source": [
    "\n",
    "roc_auc_score(y_train_surv.loc[mask], X_train_surv.loc[mask]['pred_prob'])"
   ]
  },
  {
   "cell_type": "code",
   "execution_count": 357,
   "metadata": {},
   "outputs": [],
   "source": [
    "# so the true roc is 0.90 for this simple example on train!"
   ]
  },
  {
   "cell_type": "code",
   "execution_count": 358,
   "metadata": {},
   "outputs": [],
   "source": [
    "# now at test time need to at a new column to the data which was time! or replace Recency with time! also need things to be in the same column order!\n",
    "# this is where things get complicated! in an unnennessary sense!"
   ]
  },
  {
   "cell_type": "code",
   "execution_count": 359,
   "metadata": {},
   "outputs": [
    {
     "output_type": "execute_result",
     "data": {
      "text/plain": [
       "{'pred_prob'}"
      ]
     },
     "metadata": {},
     "execution_count": 359
    }
   ],
   "source": [
    "set(X_train_surv.columns).difference(set(X_test_surv))"
   ]
  },
  {
   "cell_type": "code",
   "execution_count": 361,
   "metadata": {},
   "outputs": [
    {
     "output_type": "execute_result",
     "data": {
      "text/plain": [
       "10"
      ]
     },
     "metadata": {},
     "execution_count": 361
    }
   ],
   "source": [
    "10"
   ]
  },
  {
   "cell_type": "code",
   "execution_count": 362,
   "metadata": {},
   "outputs": [
    {
     "output_type": "execute_result",
     "data": {
      "text/plain": [
       "(224, 26)"
      ]
     },
     "metadata": {},
     "execution_count": 362
    }
   ],
   "source": [
    "X_test.shape"
   ]
  },
  {
   "cell_type": "code",
   "execution_count": 363,
   "metadata": {},
   "outputs": [
    {
     "output_type": "execute_result",
     "data": {
      "text/plain": [
       "(2016, 26)"
      ]
     },
     "metadata": {},
     "execution_count": 363
    }
   ],
   "source": [
    "X_train.shape"
   ]
  },
  {
   "cell_type": "code",
   "execution_count": 364,
   "metadata": {},
   "outputs": [
    {
     "output_type": "execute_result",
     "data": {
      "text/plain": [
       "(101219, 28)"
      ]
     },
     "metadata": {},
     "execution_count": 364
    }
   ],
   "source": [
    "X_train_surv.shape"
   ]
  },
  {
   "cell_type": "code",
   "execution_count": 365,
   "metadata": {},
   "outputs": [
    {
     "output_type": "execute_result",
     "data": {
      "text/plain": [
       "(11026, 27)"
      ]
     },
     "metadata": {},
     "execution_count": 365
    }
   ],
   "source": [
    "X_test_surv.shape"
   ]
  },
  {
   "cell_type": "code",
   "execution_count": 366,
   "metadata": {},
   "outputs": [
    {
     "output_type": "execute_result",
     "data": {
      "text/plain": [
       "0.7843749999999999"
      ]
     },
     "metadata": {},
     "execution_count": 366
    }
   ],
   "source": [
    "X_test_surv['pred_prob'] = lasso_pipeline.predict_log_proba(X_test_surv)[:, 1]\n",
    "mask = list(X_test_surv.query('time==Recency').index)\n",
    "roc_auc_score(y_test_surv.loc[mask], X_test_surv.loc[mask]['pred_prob'])"
   ]
  },
  {
   "cell_type": "code",
   "execution_count": null,
   "metadata": {},
   "outputs": [],
   "source": []
  }
 ],
 "metadata": {
  "kernelspec": {
   "display_name": "kaggle_marketing_campaign2",
   "language": "python",
   "name": "kaggle_marketing_campaign2"
  },
  "language_info": {
   "codemirror_mode": {
    "name": "ipython",
    "version": 3
   },
   "file_extension": ".py",
   "mimetype": "text/x-python",
   "name": "python",
   "nbconvert_exporter": "python",
   "pygments_lexer": "ipython3",
   "version": "3.7.6-final"
  }
 },
 "nbformat": 4,
 "nbformat_minor": 4
}